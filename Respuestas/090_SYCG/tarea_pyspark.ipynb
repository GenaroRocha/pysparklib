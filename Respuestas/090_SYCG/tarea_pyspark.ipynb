{
  "cells": [
    {
      "cell_type": "markdown",
      "metadata": {
        "id": "2YAjATceTGUb"
      },
      "source": [
        "# Tarea Apache Spark\n",
        ">Importa las librerías necesarias dónde sea necesario\n"
      ]
    },
    {
      "cell_type": "code",
      "source": [
        "pip install pyspark"
      ],
      "metadata": {
        "colab": {
          "base_uri": "https://localhost:8080/"
        },
        "id": "tly6YuVLpg6r",
        "outputId": "1ea35474-7c59-4f96-9182-71d8dfa98a03"
      },
      "execution_count": 2,
      "outputs": [
        {
          "output_type": "stream",
          "name": "stdout",
          "text": [
            "Collecting pyspark\n",
            "  Downloading pyspark-3.5.0.tar.gz (316.9 MB)\n",
            "\u001b[2K     \u001b[90m━━━━━━━━━━━━━━━━━━━━━━━━━━━━━━━━━━━━━━━━\u001b[0m \u001b[32m316.9/316.9 MB\u001b[0m \u001b[31m2.7 MB/s\u001b[0m eta \u001b[36m0:00:00\u001b[0m\n",
            "\u001b[?25h  Preparing metadata (setup.py) ... \u001b[?25l\u001b[?25hdone\n",
            "Requirement already satisfied: py4j==0.10.9.7 in /usr/local/lib/python3.10/dist-packages (from pyspark) (0.10.9.7)\n",
            "Building wheels for collected packages: pyspark\n",
            "  Building wheel for pyspark (setup.py) ... \u001b[?25l\u001b[?25hdone\n",
            "  Created wheel for pyspark: filename=pyspark-3.5.0-py2.py3-none-any.whl size=317425345 sha256=1b9bdfb2d209dd709d9454d47dd082fc3f019f044c32d395eab6554457f4ce09\n",
            "  Stored in directory: /root/.cache/pip/wheels/41/4e/10/c2cf2467f71c678cfc8a6b9ac9241e5e44a01940da8fbb17fc\n",
            "Successfully built pyspark\n",
            "Installing collected packages: pyspark\n",
            "Successfully installed pyspark-3.5.0\n"
          ]
        }
      ]
    },
    {
      "cell_type": "code",
      "execution_count": 3,
      "metadata": {
        "id": "e-QJC6haTGUd"
      },
      "outputs": [],
      "source": [
        "import pandas as pd\n",
        "from pyspark.sql import SparkSession"
      ]
    },
    {
      "cell_type": "markdown",
      "metadata": {
        "id": "0HTlWMZDTGUf"
      },
      "source": [
        "### SparkSession\n",
        ">Crea un SparkSession para comenzar la tarea"
      ]
    },
    {
      "cell_type": "code",
      "execution_count": 4,
      "metadata": {
        "id": "4B8MX2H5TGUf"
      },
      "outputs": [],
      "source": [
        "# Configurar la aplicación Spark\n",
        "app_name = \"tarea\"\n",
        "\n",
        "# Crear una instancia de SparkSession\n",
        "spark = SparkSession.builder.appName(app_name).getOrCreate()\n"
      ]
    },
    {
      "cell_type": "markdown",
      "metadata": {
        "id": "-5-1KJ8wTGUg"
      },
      "source": [
        "### Crear un DataFrame\n",
        ">Lee el csv datosTarea.csv, mételo a un DF y muéstralo."
      ]
    },
    {
      "cell_type": "code",
      "execution_count": 6,
      "metadata": {
        "id": "U4QguGn7TGUg",
        "colab": {
          "base_uri": "https://localhost:8080/"
        },
        "outputId": "aba86021-fa4c-4b56-bca1-0f3538b49c35"
      },
      "outputs": [
        {
          "output_type": "stream",
          "name": "stdout",
          "text": [
            "+-----+---------------+--------------------+--------------------+--------------------+--------------------+-------+--------------------+-------------------+--------+-----------+------+\n",
            "|Index|Organization Id|                Name|             Website|             Country|         Description|Founded|            Industry|Number of employees|Networth|stock_price|profit|\n",
            "+-----+---------------+--------------------+--------------------+--------------------+--------------------+-------+--------------------+-------------------+--------+-----------+------+\n",
            "|    1|FAB0d41d5b5d22c|         Ferrell LLC|  https://price.net/|    Papua New Guinea|Horizontal empowe...|   1990|            Plastics|               3498|  402269|         33| 12125|\n",
            "|    2|6A7EdDEA9FaDC52|Mckinney, Riley a...|http://www.hall-b...|             Finland|User-centric syst...|   2015|Glass / Ceramics ...|               4952|  569480|         49| 12001|\n",
            "|    3|0bFED1ADAE4bcC1|          Hester Ltd|http://sullivan-r...|               China|Switchable scalab...|   1971|       Public Safety|               5287|  608005|         26| 17121|\n",
            "|    4|2bFC1Be8a4ce42f|      Holder-Sellers| https://becker.com/|        Turkmenistan|De-engineered sys...|   2004|          Automotive|                921|  105914|         23|  8200|\n",
            "|    5|9eE8A6a4Eb96C24|         Mayer Group|http://www.brewer...|           Mauritius|Synchronized need...|   1991|      Transportation|               7870|  905049|         31|  8599|\n",
            "|    6|cC757116fe1C085|      Henry-Thompson|   http://morse.net/|             Bahamas|Face-to-face well...|   1992|Primary / Seconda...|               4914|  565110|         49|  5389|\n",
            "|    7|219233e8aFF1BC3|      Hansen-Everett|https://www.kidd....|            Pakistan|Seamless disinter...|   2018| Publishing Industry|               7832|  900679|         13|  5700|\n",
            "|    8|ccc93DCF81a31CD|       Mcintosh-Mora|https://www.brook...|Heard Island and ...|Centralized attit...|   1970|     Import / Export|               4389|  504734|         19|  5830|\n",
            "|    9|0B4F93aA06ED03e|            Carr Inc|    http://ross.com/|              Kuwait|Distributed impac...|   1996|            Plastics|               8167|  939204|         16| 15786|\n",
            "|   10|738b5aDe6B1C6A5|          Gaines Inc|http://sandoval-h...|          Uzbekistan|Multi-lateral sca...|   1997|Outsourcing / Off...|               9698| 1115270|         16| 14835|\n",
            "|   11|AE61b8Ffebbc476|          Kidd Group|http://www.lyons....|Bouvet Island (Bo...|Proactive foregro...|   2001|Primary / Seconda...|               7473|  859394|         45| 15424|\n",
            "|   12|eb3B7D06cCdD609|        Crane-Clarke|https://www.sando...|             Denmark|Front-line clear-...|   2014|    Food / Beverages|               9011| 1036264|         26|  8297|\n",
            "|   13|8D0c29189C9798B|Keller, Campos an...|https://www.garne...|             Liberia|Ameliorated direc...|   2020|Museums / Institu...|               2862|  329130|         28| 17043|\n",
            "|   14|D2c91cc03CA394c|         Glover-Pope|http://www.silva....|United Arab Emirates|Persevering conte...|   2013|    Medical Practice|               9079| 1044084|         28| 17809|\n",
            "|   15|C8AC1eaf9C036F4|      Pacheco-Spears|https://aguilar.com/|              Sweden|Secured logistica...|   1984|            Maritime|                769|   88435|         34| 12677|\n",
            "|   16|b5D10A14f7a8AfE|         Hodge-Ayers|http://www.archer...|            Honduras|Future-proofed ra...|   1990| Facilities Services|               8508|  978419|         13| 15797|\n",
            "|   17|68139b5C4De03B4|Bowers, Guerra an...|http://www.carril...|              Uganda|De-engineered tra...|   1972|Primary / Seconda...|               6986|  803389|         34| 12530|\n",
            "|   18|5c2EffEfdba2BdF|     Mckenzie-Melton|http://montoya-th...|           Hong Kong|Reverse-engineere...|   1998|Investment Manage...|               4589|  527735|         11| 16958|\n",
            "|   19|ba179F19F7925f5|         Branch-Mann|http://www.lozano...|            Botswana|Adaptive intangib...|   1999|Architecture / Pl...|               7961|  915514|         47|  8745|\n",
            "|   20|c1Ce9B350BAc66b|      Weiss and Sons|https://barrett.com/|               Korea|Sharable optimal ...|   2011|            Plastics|               5984|  688160|         46| 18079|\n",
            "+-----+---------------+--------------------+--------------------+--------------------+--------------------+-------+--------------------+-------------------+--------+-----------+------+\n",
            "only showing top 20 rows\n",
            "\n"
          ]
        }
      ],
      "source": [
        "df = spark.read.csv(\"/datosTarea.csv\", header=True, inferSchema=True)\n",
        "df.show()"
      ]
    },
    {
      "cell_type": "markdown",
      "metadata": {
        "id": "bZa8twXuTGUh"
      },
      "source": [
        "### Filtro de datos\n",
        ">Consigue todas las empresas que empiecen con 'M' y tengan entre 4000 y 7000 empleados. Sólo muestra los nombres y el número de empleados."
      ]
    },
    {
      "cell_type": "code",
      "execution_count": 9,
      "metadata": {
        "id": "vbCifl7ATGUh",
        "colab": {
          "base_uri": "https://localhost:8080/"
        },
        "outputId": "5ac2ff43-393a-46d0-ecdd-546a95617a1b"
      },
      "outputs": [
        {
          "output_type": "stream",
          "name": "stdout",
          "text": [
            "+--------------------+-------------------+\n",
            "|                Name|Number of Employees|\n",
            "+--------------------+-------------------+\n",
            "|Mckinney, Riley a...|               4952|\n",
            "|       Mcintosh-Mora|               4389|\n",
            "|     Mckenzie-Melton|               4589|\n",
            "|          Massey LLC|               5004|\n",
            "|        Mays-Preston|               5786|\n",
            "+--------------------+-------------------+\n",
            "\n"
          ]
        }
      ],
      "source": [
        "resp = df.filter((df['Name'].startswith('M')) & (df[\"Number of Employees\"].between(4000, 7000))).select(\"Name\", \"Number of Employees\")\n",
        "\n",
        "resp.show()"
      ]
    },
    {
      "cell_type": "markdown",
      "metadata": {
        "id": "PWVN0CUgTGUi"
      },
      "source": [
        ">Consigue todos los países que no inicien con las letras 'b', 's' y 'm', pero que tampoco tengan un netword mayor a 500000. Muestra el nombre de la compañía, el país y el networth."
      ]
    },
    {
      "cell_type": "code",
      "execution_count": 20,
      "metadata": {
        "id": "_05H3WABTGUi",
        "colab": {
          "base_uri": "https://localhost:8080/"
        },
        "outputId": "276647e7-6616-4c31-c9f8-256b539a587f"
      },
      "outputs": [
        {
          "output_type": "stream",
          "name": "stdout",
          "text": [
            "+--------------------+--------------------+--------+\n",
            "|                Name|             Country|Networth|\n",
            "+--------------------+--------------------+--------+\n",
            "|         Ferrell LLC|    Papua New Guinea|  402269|\n",
            "|      Holder-Sellers|        Turkmenistan|  105914|\n",
            "|Keller, Campos an...|             Liberia|  329130|\n",
            "|      Pacheco-Spears|              Sweden|   88435|\n",
            "|         Harrell LLC|          Guadeloupe|  251274|\n",
            "|         Jenkins Inc|        South Africa|  139725|\n",
            "|Dickson, Richmond...|      Czech Republic|  359030|\n",
            "|        Prince-David|    Christmas Island|  120289|\n",
            "|         Rivas Group|           Australia|  477824|\n",
            "|Sloan, Mays and W...|                Chad|   41975|\n",
            "|Glass, Barrera an...|     Kyrgyz Republic|  300150|\n",
            "|          Pineda-Cox|             Bolivia|  150880|\n",
            "|Baker, Mccann and...|               Kenya|  188370|\n",
            "|            Hahn PLC|             Belarus|  427224|\n",
            "|Valentine, Fergus...|              Jersey|  412274|\n",
            "|           Walls LLC|          Cape Verde|  192969|\n",
            "|Mitchell, Warren ...| Trinidad and Tobago|  438839|\n",
            "|      Walton-Barnett|      Western Sahara|  200789|\n",
            "|     Bartlett-Arroyo|Northern Mariana ...|  458504|\n",
            "|         Berg-Sparks|              Canada|  238394|\n",
            "+--------------------+--------------------+--------+\n",
            "only showing top 20 rows\n",
            "\n"
          ]
        }
      ],
      "source": [
        "# Filtrar los países que no comienzan con 'b', 's' o 'm' y tienen un networth menor o igual a 500000\n",
        "result_df = df.filter(\n",
        "    (~col(\"Country\").startswith(\"b\")) &\n",
        "    (~col(\"Country\").startswith(\"s\")) &\n",
        "    (~col(\"Country\").startswith(\"m\")) &\n",
        "    (col(\"Networth\") <= 500000)\n",
        ")\n",
        "\n",
        "# Mostrar el resultado\n",
        "result_df.select(\"Name\", \"Country\", \"Networth\").show()"
      ]
    },
    {
      "cell_type": "markdown",
      "metadata": {
        "id": "UGxAHkC8TGUi"
      },
      "source": [
        "### Funciones\n",
        "Crea una función con @pandas_udf que que le reste a los profits la media en cada renglón. Crea una nueva columna que muestre los resultados."
      ]
    },
    {
      "cell_type": "code",
      "execution_count": 37,
      "metadata": {
        "id": "AwaSlds1TGUj"
      },
      "outputs": [],
      "source": [
        "def subtract_mean(pdf):\n",
        "    return pdf.assign(profit_minus_mean=pdf['profit'] - pdf['profit'].mean())"
      ]
    },
    {
      "cell_type": "markdown",
      "metadata": {
        "id": "vqT6Ji0BTGUj"
      },
      "source": [
        "### Grouping data\n",
        ">Agrupa por industry y muestra cuáles son las empresas con el profit más alto. Muestra los primeros tres."
      ]
    },
    {
      "cell_type": "code",
      "source": [
        "from pyspark.sql.functions import col, rank\n",
        "from pyspark.sql.window import Window\n",
        "from pyspark.sql.functions import desc"
      ],
      "metadata": {
        "id": "CzavZ8tZzhbA"
      },
      "execution_count": 22,
      "outputs": []
    },
    {
      "cell_type": "code",
      "execution_count": 23,
      "metadata": {
        "id": "ghGJatjjTGUj",
        "colab": {
          "base_uri": "https://localhost:8080/"
        },
        "outputId": "45ca9bbe-475f-4537-fcba-95c214e944e3"
      },
      "outputs": [
        {
          "output_type": "stream",
          "name": "stdout",
          "text": [
            "+--------------------+----------+\n",
            "|            Industry|max_profit|\n",
            "+--------------------+----------+\n",
            "|  Legislative Office|     19363|\n",
            "|Museums / Institu...|     19079|\n",
            "|             Farming|     18850|\n",
            "+--------------------+----------+\n",
            "\n"
          ]
        }
      ],
      "source": [
        "# Agrupar por industry y encontrar las empresas con el profit más alto\n",
        "result_df = df.groupBy(\"Industry\").agg({\"Profit\": \"max\"}).withColumnRenamed(\"max(Profit)\", \"max_profit\")\n",
        "\n",
        "# Ordenar por profit de manera descendente y mostrar los tres primeros\n",
        "result_df = result_df.orderBy(desc(\"max_profit\")).limit(3)\n",
        "\n",
        "# Mostrar el resultado\n",
        "result_df.show()"
      ]
    },
    {
      "cell_type": "markdown",
      "metadata": {
        "id": "-73WaTcrTGUj"
      },
      "source": [
        ">Agrupa por industry y calcula el promedio de empleados que tienen"
      ]
    },
    {
      "cell_type": "code",
      "source": [
        "from pyspark.sql.functions import avg"
      ],
      "metadata": {
        "id": "Ldzby98nEoTw"
      },
      "execution_count": 25,
      "outputs": []
    },
    {
      "cell_type": "code",
      "execution_count": 26,
      "metadata": {
        "id": "X1jPq-8LTGUk",
        "colab": {
          "base_uri": "https://localhost:8080/"
        },
        "outputId": "39598806-0e9e-4dbe-d31c-c29af630298f"
      },
      "outputs": [
        {
          "output_type": "stream",
          "name": "stdout",
          "text": [
            "+--------------------+------------------------+\n",
            "|            Industry|avg(Number of Employees)|\n",
            "+--------------------+------------------------+\n",
            "|Primary / Seconda...|       6457.666666666667|\n",
            "|     Broadcast Media|                  2589.0|\n",
            "|           Wholesale|                  5010.0|\n",
            "|Investment Manage...|                  3133.5|\n",
            "|    Food / Beverages|                  9011.0|\n",
            "|  Gambling / Casinos|                  4873.0|\n",
            "|Logistics / Procu...|                  4155.0|\n",
            "|            Maritime|                   769.0|\n",
            "|            Wireless|                  6146.0|\n",
            "|Education Management|                   339.0|\n",
            "|       Arts / Crafts|                  2800.0|\n",
            "|           Insurance|                  1215.0|\n",
            "|  Financial Services|                  5157.0|\n",
            "|Business Supplies...|                  9097.0|\n",
            "|Consumer Electronics|                  5022.0|\n",
            "|       Public Safety|                  5287.0|\n",
            "|Information Techn...|                  3934.0|\n",
            "|Civic / Social Or...|                  2442.0|\n",
            "|      Consumer Goods|                  9069.0|\n",
            "|Glass / Ceramics ...|                  4952.0|\n",
            "+--------------------+------------------------+\n",
            "only showing top 20 rows\n",
            "\n"
          ]
        }
      ],
      "source": [
        "# Agrupar por industry y calcular el promedio de empleados\n",
        "result_df = df.groupBy(\"Industry\").agg(avg(\"Number of Employees\"))\n",
        "\n",
        "# Mostrar el resultado\n",
        "result_df.show()"
      ]
    },
    {
      "cell_type": "markdown",
      "metadata": {
        "id": "2BpWdBh0TGUk"
      },
      "source": [
        "### SQL\n",
        ">Usando Spark SQL, obtén cuántas empresas se fundaron despúes del 2000."
      ]
    },
    {
      "cell_type": "code",
      "execution_count": 10,
      "metadata": {
        "id": "bz8M_6y-TGUk",
        "colab": {
          "base_uri": "https://localhost:8080/"
        },
        "outputId": "c839c4ef-1a45-483a-805e-2f7ff4110c2c"
      },
      "outputs": [
        {
          "output_type": "stream",
          "name": "stdout",
          "text": [
            "+--------------+\n",
            "|count_empresas|\n",
            "+--------------+\n",
            "|            38|\n",
            "+--------------+\n",
            "\n"
          ]
        }
      ],
      "source": [
        "df.createOrReplaceTempView(\"empresa_table\")\n",
        "query = \"\"\"\n",
        "    SELECT COUNT(*) as count_empresas\n",
        "    FROM empresa_table\n",
        "    WHERE Founded > 2000\n",
        "\"\"\"\n",
        "\n",
        "result = spark.sql(query)\n",
        "\n",
        "result.show()"
      ]
    },
    {
      "cell_type": "markdown",
      "metadata": {
        "id": "ewghOBMcTGUl"
      },
      "source": [
        "### ML Regresión Lineal\n",
        ">Con número de empleados, networth y stock price, obtén una predicción del profit a través de una regresión lineal."
      ]
    },
    {
      "cell_type": "code",
      "source": [
        "from pyspark.ml.feature import VectorAssembler\n",
        "from pyspark.ml.regression import LinearRegression"
      ],
      "metadata": {
        "id": "UdXjzcmgFQkO"
      },
      "execution_count": 28,
      "outputs": []
    },
    {
      "cell_type": "code",
      "execution_count": 35,
      "metadata": {
        "id": "lVM6t2jWTGUl"
      },
      "outputs": [],
      "source": [
        "# Ensamblar las características en un vector\n",
        "assembler = VectorAssembler(\n",
        "    inputCols=[\"Number of employees\", \"Networth\", \"stock_price\"],\n",
        "    outputCol=\"features\"\n",
        ")\n",
        "df_assembled = assembler.transform(df)\n",
        "# Seleccionar las columnas relevantes\n",
        "data = df_assembled.select(\"features\", \"Profit\")\n",
        "\n",
        "# Dividir el conjunto de datos en entrenamiento y prueba\n",
        "train_data, test_data = data.randomSplit([0.8, 0.2], seed=123)\n",
        "\n",
        "# Configurar el modelo de regresión lineal\n",
        "lr = LinearRegression(featuresCol=\"features\", labelCol=\"Profit\")\n",
        "\n",
        "# Entrenar el modelo\n",
        "lr_model = lr.fit(train_data)\n",
        "\n",
        "# Realizar predicciones en el conjunto de prueba\n",
        "predictions = lr_model.transform(test_data)"
      ]
    },
    {
      "cell_type": "markdown",
      "metadata": {
        "id": "9jiWbPbiTGUl"
      },
      "source": [
        ">Una vez que obtengas los resultados, a través del api de pandas, conviértelo en un pandas on spark DataFrame y pásalo a csv."
      ]
    },
    {
      "cell_type": "code",
      "execution_count": 36,
      "metadata": {
        "id": "amC_x_EoTGUl"
      },
      "outputs": [],
      "source": [
        "# Convertir el DataFrame de PySpark a un DataFrame de pandas\n",
        "pandas_df = predictions.select(\"features\", \"profit\", \"prediction\").toPandas()\n",
        "\n",
        "# Guardar el DataFrame de pandas como un archivo CSV\n",
        "pandas_df.to_csv(\"resultados.csv\", index=False)"
      ]
    }
  ],
  "metadata": {
    "language_info": {
      "name": "python"
    },
    "colab": {
      "provenance": []
    },
    "kernelspec": {
      "name": "python3",
      "display_name": "Python 3"
    }
  },
  "nbformat": 4,
  "nbformat_minor": 0
}