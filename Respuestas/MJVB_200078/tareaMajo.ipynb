{
 "cells": [
  {
   "cell_type": "markdown",
   "metadata": {},
   "source": [
    "# Tarea Apache Spark\n",
    ">Importa las librerías necesarias dónde sea necesario\n"
   ]
  },
  {
   "cell_type": "code",
   "execution_count": 16,
   "metadata": {},
   "outputs": [],
   "source": [
    "import pandas as pd \n",
    "from pyspark.sql import SparkSession"
   ]
  },
  {
   "cell_type": "markdown",
   "metadata": {},
   "source": []
  },
  {
   "cell_type": "markdown",
   "metadata": {},
   "source": [
    "### SparkSession\n",
    ">Crea un SparkSession para comenzar la tarea"
   ]
  },
  {
   "cell_type": "code",
   "execution_count": 17,
   "metadata": {},
   "outputs": [],
   "source": [
    "spark = SparkSession.builder.appName(\"tareaMajo\").getOrCreate()"
   ]
  },
  {
   "cell_type": "markdown",
   "metadata": {},
   "source": [
    "### Crear un DataFrame\n",
    ">Lee el csv datosTarea.csv, mételo a un DF y muéstralo."
   ]
  },
  {
   "cell_type": "code",
   "execution_count": 18,
   "metadata": {},
   "outputs": [
    {
     "name": "stdout",
     "output_type": "stream",
     "text": [
      "+-----+---------------+--------------------+--------------------+--------------------+--------------------+-------+--------------------+-------------------+--------+-----------+------+\n",
      "|Index|Organization Id|                Name|             Website|             Country|         Description|Founded|            Industry|Number of employees|Networth|stock_price|profit|\n",
      "+-----+---------------+--------------------+--------------------+--------------------+--------------------+-------+--------------------+-------------------+--------+-----------+------+\n",
      "|    1|FAB0d41d5b5d22c|         Ferrell LLC|  https://price.net/|    Papua New Guinea|Horizontal empowe...|   1990|            Plastics|               3498|  402269|         33| 12125|\n",
      "|    2|6A7EdDEA9FaDC52|Mckinney, Riley a...|http://www.hall-b...|             Finland|User-centric syst...|   2015|Glass / Ceramics ...|               4952|  569480|         49| 12001|\n",
      "|    3|0bFED1ADAE4bcC1|          Hester Ltd|http://sullivan-r...|               China|Switchable scalab...|   1971|       Public Safety|               5287|  608005|         26| 17121|\n",
      "|    4|2bFC1Be8a4ce42f|      Holder-Sellers| https://becker.com/|        Turkmenistan|De-engineered sys...|   2004|          Automotive|                921|  105914|         23|  8200|\n",
      "|    5|9eE8A6a4Eb96C24|         Mayer Group|http://www.brewer...|           Mauritius|Synchronized need...|   1991|      Transportation|               7870|  905049|         31|  8599|\n",
      "|    6|cC757116fe1C085|      Henry-Thompson|   http://morse.net/|             Bahamas|Face-to-face well...|   1992|Primary / Seconda...|               4914|  565110|         49|  5389|\n",
      "|    7|219233e8aFF1BC3|      Hansen-Everett|https://www.kidd....|            Pakistan|Seamless disinter...|   2018| Publishing Industry|               7832|  900679|         13|  5700|\n",
      "|    8|ccc93DCF81a31CD|       Mcintosh-Mora|https://www.brook...|Heard Island and ...|Centralized attit...|   1970|     Import / Export|               4389|  504734|         19|  5830|\n",
      "|    9|0B4F93aA06ED03e|            Carr Inc|    http://ross.com/|              Kuwait|Distributed impac...|   1996|            Plastics|               8167|  939204|         16| 15786|\n",
      "|   10|738b5aDe6B1C6A5|          Gaines Inc|http://sandoval-h...|          Uzbekistan|Multi-lateral sca...|   1997|Outsourcing / Off...|               9698| 1115270|         16| 14835|\n",
      "|   11|AE61b8Ffebbc476|          Kidd Group|http://www.lyons....|Bouvet Island (Bo...|Proactive foregro...|   2001|Primary / Seconda...|               7473|  859394|         45| 15424|\n",
      "|   12|eb3B7D06cCdD609|        Crane-Clarke|https://www.sando...|             Denmark|Front-line clear-...|   2014|    Food / Beverages|               9011| 1036264|         26|  8297|\n",
      "|   13|8D0c29189C9798B|Keller, Campos an...|https://www.garne...|             Liberia|Ameliorated direc...|   2020|Museums / Institu...|               2862|  329130|         28| 17043|\n",
      "|   14|D2c91cc03CA394c|         Glover-Pope|http://www.silva....|United Arab Emirates|Persevering conte...|   2013|    Medical Practice|               9079| 1044084|         28| 17809|\n",
      "|   15|C8AC1eaf9C036F4|      Pacheco-Spears|https://aguilar.com/|              Sweden|Secured logistica...|   1984|            Maritime|                769|   88435|         34| 12677|\n",
      "|   16|b5D10A14f7a8AfE|         Hodge-Ayers|http://www.archer...|            Honduras|Future-proofed ra...|   1990| Facilities Services|               8508|  978419|         13| 15797|\n",
      "|   17|68139b5C4De03B4|Bowers, Guerra an...|http://www.carril...|              Uganda|De-engineered tra...|   1972|Primary / Seconda...|               6986|  803389|         34| 12530|\n",
      "|   18|5c2EffEfdba2BdF|     Mckenzie-Melton|http://montoya-th...|           Hong Kong|Reverse-engineere...|   1998|Investment Manage...|               4589|  527735|         11| 16958|\n",
      "|   19|ba179F19F7925f5|         Branch-Mann|http://www.lozano...|            Botswana|Adaptive intangib...|   1999|Architecture / Pl...|               7961|  915514|         47|  8745|\n",
      "|   20|c1Ce9B350BAc66b|      Weiss and Sons|https://barrett.com/|               Korea|Sharable optimal ...|   2011|            Plastics|               5984|  688160|         46| 18079|\n",
      "+-----+---------------+--------------------+--------------------+--------------------+--------------------+-------+--------------------+-------------------+--------+-----------+------+\n",
      "only showing top 20 rows\n",
      "\n"
     ]
    }
   ],
   "source": [
    "df= spark.read.csv('datosTarea.csv', header=True, inferSchema=True)\n",
    "df.show()"
   ]
  },
  {
   "cell_type": "markdown",
   "metadata": {},
   "source": [
    "### Filtro de datos\n",
    ">Consigue todas las empresas que empiecen con 'M' y tengan entre 4000 y 7000 empleados. Sólo muestra los nombres y el número de empleados."
   ]
  },
  {
   "cell_type": "code",
   "execution_count": 19,
   "metadata": {},
   "outputs": [
    {
     "name": "stdout",
     "output_type": "stream",
     "text": [
      "+--------------------+-------------------+\n",
      "|                Name|Number of employees|\n",
      "+--------------------+-------------------+\n",
      "|Mckinney, Riley a...|               4952|\n",
      "|       Mcintosh-Mora|               4389|\n",
      "|     Mckenzie-Melton|               4589|\n",
      "|          Massey LLC|               5004|\n",
      "|        Mays-Preston|               5786|\n",
      "+--------------------+-------------------+\n",
      "\n"
     ]
    }
   ],
   "source": [
    "from pyspark.sql.functions import col\n",
    "\n",
    "df2 = df.filter(\n",
    "    (col('Name').startswith('M')) & (col('Number of employees').between(4000, 7000))\n",
    ")\n",
    "\n",
    "res= df2.select('Name', 'Number of employees')\n",
    "\n",
    "res.show()"
   ]
  },
  {
   "cell_type": "markdown",
   "metadata": {},
   "source": [
    ">Consigue todos los países que no inicien con las letras 'b', 's' y 'm', pero que tampoco tengan un netword mayor a 500000. Muestra el nombre de la compañía, el país y el networth."
   ]
  },
  {
   "cell_type": "code",
   "execution_count": 20,
   "metadata": {},
   "outputs": [
    {
     "name": "stdout",
     "output_type": "stream",
     "text": [
      "+--------------------+--------------------+--------+\n",
      "|                Name|             Country|Networth|\n",
      "+--------------------+--------------------+--------+\n",
      "|         Ferrell LLC|    Papua New Guinea|  402269|\n",
      "|      Holder-Sellers|        Turkmenistan|  105914|\n",
      "|Keller, Campos an...|             Liberia|  329130|\n",
      "|      Pacheco-Spears|              Sweden|   88435|\n",
      "|         Harrell LLC|          Guadeloupe|  251274|\n",
      "|         Jenkins Inc|        South Africa|  139725|\n",
      "|Dickson, Richmond...|      Czech Republic|  359030|\n",
      "|        Prince-David|    Christmas Island|  120289|\n",
      "|         Rivas Group|           Australia|  477824|\n",
      "|Sloan, Mays and W...|                Chad|   41975|\n",
      "|Glass, Barrera an...|     Kyrgyz Republic|  300150|\n",
      "|          Pineda-Cox|             Bolivia|  150880|\n",
      "|Baker, Mccann and...|               Kenya|  188370|\n",
      "|            Hahn PLC|             Belarus|  427224|\n",
      "|Valentine, Fergus...|              Jersey|  412274|\n",
      "|           Walls LLC|          Cape Verde|  192969|\n",
      "|Mitchell, Warren ...| Trinidad and Tobago|  438839|\n",
      "|      Walton-Barnett|      Western Sahara|  200789|\n",
      "|     Bartlett-Arroyo|Northern Mariana ...|  458504|\n",
      "|         Berg-Sparks|              Canada|  238394|\n",
      "+--------------------+--------------------+--------+\n",
      "only showing top 20 rows\n",
      "\n"
     ]
    }
   ],
   "source": [
    "df3 = df.filter(\n",
    "    (~col('Country').startswith('b')) & (~col('Country').startswith('s')) & (~col('Country').startswith('m')) & (col('Networth') <= 500000)\n",
    ")\n",
    "\n",
    "res= df3.select('Name', 'Country', 'Networth')\n",
    "res.show()"
   ]
  },
  {
   "cell_type": "markdown",
   "metadata": {},
   "source": [
    "### Funciones\n",
    "Crea una función con @pandas_udf que que le reste a los profits la media en cada renglón. Crea una nueva columna que muestre los resultados."
   ]
  },
  {
   "cell_type": "code",
   "execution_count": 21,
   "metadata": {},
   "outputs": [
    {
     "name": "stderr",
     "output_type": "stream",
     "text": [
      "[Stage 12:>                                                         (0 + 1) / 1]\r"
     ]
    },
    {
     "name": "stdout",
     "output_type": "stream",
     "text": [
      "+--------------------+----------------+\n",
      "|                Name|profits_adjusted|\n",
      "+--------------------+----------------+\n",
      "|         Ferrell LLC|          -194.0|\n",
      "|Mckinney, Riley a...|          -318.0|\n",
      "|          Hester Ltd|          4802.0|\n",
      "|      Holder-Sellers|         -4119.0|\n",
      "|         Mayer Group|         -3720.0|\n",
      "|      Henry-Thompson|         -6930.0|\n",
      "|      Hansen-Everett|         -6619.0|\n",
      "|       Mcintosh-Mora|         -6489.0|\n",
      "|            Carr Inc|          3467.0|\n",
      "|          Gaines Inc|          2516.0|\n",
      "|          Kidd Group|          3105.0|\n",
      "|        Crane-Clarke|         -4022.0|\n",
      "|Keller, Campos an...|          4724.0|\n",
      "|         Glover-Pope|          5490.0|\n",
      "|      Pacheco-Spears|           358.0|\n",
      "|         Hodge-Ayers|          3478.0|\n",
      "|Bowers, Guerra an...|           211.0|\n",
      "|     Mckenzie-Melton|          4639.0|\n",
      "|         Branch-Mann|         -3574.0|\n",
      "|      Weiss and Sons|          5760.0|\n",
      "+--------------------+----------------+\n",
      "only showing top 20 rows\n",
      "\n"
     ]
    },
    {
     "name": "stderr",
     "output_type": "stream",
     "text": [
      "                                                                                \r"
     ]
    }
   ],
   "source": [
    "from pyspark.sql.functions import pandas_udf, PandasUDFType\n",
    "from pyspark.sql import types as T\n",
    "\n",
    "@pandas_udf(T.DoubleType())\n",
    "def ajuste(profit):\n",
    "    return profit - profit.mean()\n",
    "\n",
    "dfAjuste = df.withColumn('profits_adjusted', ajuste(df['Profit']))\n",
    "dfAjuste = dfAjuste.select('Name', 'profits_adjusted')\n",
    "dfAjuste.show()"
   ]
  },
  {
   "cell_type": "markdown",
   "metadata": {},
   "source": [
    "### Grouping data\n",
    ">Agrupa por industry y muestra cuáles son las empresas con el profit más alto. Muestra los primeros tres."
   ]
  },
  {
   "cell_type": "code",
   "execution_count": 22,
   "metadata": {},
   "outputs": [
    {
     "name": "stdout",
     "output_type": "stream",
     "text": [
      "+--------------------+-----------+\n",
      "|            Industry|max(Profit)|\n",
      "+--------------------+-----------+\n",
      "|Primary / Seconda...|      15424|\n",
      "|     Broadcast Media|      12510|\n",
      "|           Wholesale|       9754|\n",
      "+--------------------+-----------+\n",
      "only showing top 3 rows\n",
      "\n"
     ]
    }
   ],
   "source": [
    "df.groupBy('Industry').max('Profit').show(3)\n"
   ]
  },
  {
   "cell_type": "markdown",
   "metadata": {},
   "source": [
    ">Agrupa por industry y calcula el promedio de empleados que tienen"
   ]
  },
  {
   "cell_type": "code",
   "execution_count": 28,
   "metadata": {},
   "outputs": [
    {
     "name": "stdout",
     "output_type": "stream",
     "text": [
      "['Index', 'Organization Id', 'Name', 'Website', 'Country', 'Description', 'Founded', 'Industry', 'Number of employees', 'Networth', 'stock_price', 'profit']\n",
      "+--------------------+------------------------+\n",
      "|            Industry|avg(Number of employees)|\n",
      "+--------------------+------------------------+\n",
      "|Primary / Seconda...|       6457.666666666667|\n",
      "|     Broadcast Media|                  2589.0|\n",
      "|           Wholesale|                  5010.0|\n",
      "|Investment Manage...|                  3133.5|\n",
      "|    Food / Beverages|                  9011.0|\n",
      "|  Gambling / Casinos|                  4873.0|\n",
      "|Logistics / Procu...|                  4155.0|\n",
      "|            Maritime|                   769.0|\n",
      "|            Wireless|                  6146.0|\n",
      "|Education Management|                   339.0|\n",
      "|       Arts / Crafts|                  2800.0|\n",
      "|           Insurance|                  1215.0|\n",
      "|  Financial Services|                  5157.0|\n",
      "|Business Supplies...|                  9097.0|\n",
      "|Consumer Electronics|                  5022.0|\n",
      "|       Public Safety|                  5287.0|\n",
      "|Information Techn...|                  3934.0|\n",
      "|Civic / Social Or...|                  2442.0|\n",
      "|      Consumer Goods|                  9069.0|\n",
      "|Glass / Ceramics ...|                  4952.0|\n",
      "+--------------------+------------------------+\n",
      "only showing top 20 rows\n",
      "\n"
     ]
    }
   ],
   "source": [
    "print(df.columns)\n",
    "\n",
    "df.groupBy('Industry').avg('Number of employees').show()\n"
   ]
  },
  {
   "cell_type": "markdown",
   "metadata": {},
   "source": [
    "### SQL\n",
    ">Usando Spark SQL, obtén cuántas empresas se fundaron despúes del 2000."
   ]
  },
  {
   "cell_type": "code",
   "execution_count": 29,
   "metadata": {},
   "outputs": [
    {
     "name": "stdout",
     "output_type": "stream",
     "text": [
      "+-----+\n",
      "|count|\n",
      "+-----+\n",
      "|   38|\n",
      "+-----+\n",
      "\n"
     ]
    }
   ],
   "source": [
    "df.createOrReplaceTempView('companies')\n",
    "\n",
    "res = spark.sql(\"\"\"\n",
    "SELECT COUNT(*) as count\n",
    "FROM companies\n",
    "WHERE Founded > 2000\n",
    "\"\"\")\n",
    "\n",
    "res.show()"
   ]
  },
  {
   "cell_type": "markdown",
   "metadata": {},
   "source": [
    "### ML Regresión Lineal\n",
    ">Con número de empleados, networth y stock price, obtén una predicción del profit a través de una regresión lineal."
   ]
  },
  {
   "cell_type": "code",
   "execution_count": 35,
   "metadata": {},
   "outputs": [
    {
     "name": "stdout",
     "output_type": "stream",
     "text": [
      "+--------------------+-------------------+--------+-----------+--------------------+\n",
      "|                Name|Number of employees|Networth|stock_price|Independent Features|\n",
      "+--------------------+-------------------+--------+-----------+--------------------+\n",
      "|         Ferrell LLC|               3498|  402269|         33|[3498.0,402269.0,...|\n",
      "|Mckinney, Riley a...|               4952|  569480|         49|[4952.0,569480.0,...|\n",
      "|          Hester Ltd|               5287|  608005|         26|[5287.0,608005.0,...|\n",
      "|      Holder-Sellers|                921|  105914|         23|[921.0,105914.0,2...|\n",
      "|         Mayer Group|               7870|  905049|         31|[7870.0,905049.0,...|\n",
      "|      Henry-Thompson|               4914|  565110|         49|[4914.0,565110.0,...|\n",
      "|      Hansen-Everett|               7832|  900679|         13|[7832.0,900679.0,...|\n",
      "|       Mcintosh-Mora|               4389|  504734|         19|[4389.0,504734.0,...|\n",
      "|            Carr Inc|               8167|  939204|         16|[8167.0,939204.0,...|\n",
      "|          Gaines Inc|               9698| 1115270|         16|[9698.0,1115270.0...|\n",
      "|          Kidd Group|               7473|  859394|         45|[7473.0,859394.0,...|\n",
      "|        Crane-Clarke|               9011| 1036264|         26|[9011.0,1036264.0...|\n",
      "|Keller, Campos an...|               2862|  329130|         28|[2862.0,329130.0,...|\n",
      "|         Glover-Pope|               9079| 1044084|         28|[9079.0,1044084.0...|\n",
      "|      Pacheco-Spears|                769|   88435|         34|[769.0,88435.0,34.0]|\n",
      "|         Hodge-Ayers|               8508|  978419|         13|[8508.0,978419.0,...|\n",
      "|Bowers, Guerra an...|               6986|  803389|         34|[6986.0,803389.0,...|\n",
      "|     Mckenzie-Melton|               4589|  527735|         11|[4589.0,527735.0,...|\n",
      "|         Branch-Mann|               7961|  915514|         47|[7961.0,915514.0,...|\n",
      "|      Weiss and Sons|               5984|  688160|         46|[5984.0,688160.0,...|\n",
      "+--------------------+-------------------+--------+-----------+--------------------+\n",
      "only showing top 20 rows\n",
      "\n"
     ]
    },
    {
     "name": "stderr",
     "output_type": "stream",
     "text": [
      "23/12/10 16:58:04 WARN Instrumentation: [2c974255] regParam is zero, which might cause numerical instability and overfitting.\n"
     ]
    },
    {
     "name": "stdout",
     "output_type": "stream",
     "text": [
      "+--------------------+--------+----------+\n",
      "|Independent Features|Networth|prediction|\n",
      "+--------------------+--------+----------+\n",
      "|[696.0,80040.0,33.0]|   80040|   80040.0|\n",
      "|[769.0,88435.0,34.0]|   88435|   88435.0|\n",
      "|[921.0,105914.0,2...|  105914|  105914.0|\n",
      "|[1215.0,139725.0,...|  139725|  139725.0|\n",
      "|[1825.0,209874.0,...|  209874|  209874.0|\n",
      "|[2073.0,238394.0,...|  238394|  238394.0|\n",
      "|[3450.0,396749.0,...|  396749|  396749.0|\n",
      "|[3816.0,438839.0,...|  438839|  438839.0|\n",
      "|[3934.0,452409.0,...|  452409|  452409.0|\n",
      "|[4914.0,565110.0,...|  565110|  565110.0|\n",
      "|[5786.0,665390.0,...|  665390|  665390.0|\n",
      "|[6986.0,803389.0,...|  803389|  803389.0|\n",
      "|[7034.0,808909.0,...|  808909|  808909.0|\n",
      "|[7443.0,855944.0,...|  855944|  855944.0|\n",
      "|[7529.0,865834.0,...|  865834|  865834.0|\n",
      "|[7870.0,905049.0,...|  905049|  905049.0|\n",
      "|[7961.0,915514.0,...|  915514|  915514.0|\n",
      "|[8433.0,969794.0,...|  969794|  969794.0|\n",
      "|[8445.0,971174.0,...|  971174|  971174.0|\n",
      "|[8480.0,975199.0,...|  975199|  975199.0|\n",
      "+--------------------+--------+----------+\n",
      "only showing top 20 rows\n",
      "\n"
     ]
    }
   ],
   "source": [
    "from pyspark.ml.feature import VectorAssembler\n",
    "from pyspark.ml.regression import LinearRegression\n",
    "\n",
    "featureassembler=VectorAssembler(inputCols=[\"Number of employees\",\"Networth\", \"stock_price\"],outputCol=\"Independent Features\")\n",
    "output=featureassembler.transform(df)\n",
    "res = output.select('Name', 'Number of employees', 'Networth', 'stock_price', 'Independent Features')\n",
    "res.show()\n",
    "\n",
    "data=output.select(\"Independent Features\",\"Networth\")\n",
    "\n",
    "train,test=data.randomSplit([0.75, 0.25])\n",
    "regressor=LinearRegression(featuresCol='Independent Features', labelCol='Networth')\n",
    "regressor=regressor.fit(train)\n",
    "\n",
    "predictions = regressor.transform(test)\n",
    "\n",
    "pRes=regressor.evaluate(test)\n",
    "\n",
    "predicciones = pRes.predictions\n",
    "predicciones.show()"
   ]
  },
  {
   "cell_type": "markdown",
   "metadata": {},
   "source": [
    ">Una vez que obtengas los resultados, a través del api de pandas, conviértelo en un pandas on spark DataFrame y pásalo a csv."
   ]
  },
  {
   "cell_type": "code",
   "execution_count": 36,
   "metadata": {},
   "outputs": [],
   "source": [
    "predicciones.toPandas().to_csv('predicciones.csv', index = False)"
   ]
  }
 ],
 "metadata": {
  "kernelspec": {
   "display_name": "venv",
   "language": "python",
   "name": "python3"
  },
  "language_info": {
   "codemirror_mode": {
    "name": "ipython",
    "version": 3
   },
   "file_extension": ".py",
   "mimetype": "text/x-python",
   "name": "python",
   "nbconvert_exporter": "python",
   "pygments_lexer": "ipython3",
   "version": "3.10.9"
  }
 },
 "nbformat": 4,
 "nbformat_minor": 2
}
