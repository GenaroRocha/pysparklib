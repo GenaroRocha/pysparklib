{
 "cells": [
  {
   "cell_type": "markdown",
   "metadata": {},
   "source": [
    "# Tarea Apache Spark\n",
    ">Importa las librerías necesarias dónde sea necesario\n"
   ]
  },
  {
   "cell_type": "code",
   "execution_count": 1,
   "metadata": {},
   "outputs": [],
   "source": [
    "import pandas as pd \n",
    "from pyspark.sql import SparkSession\n",
    "from pyspark.sql.functions import pandas_udf, sum, col, desc, avg\n",
    "from pyspark.ml.feature import VectorAssembler\n",
    "from pyspark.ml.regression import LinearRegression\n",
    "from pyspark.ml import Pipeline\n",
    "from pyspark.sql import SparkSession"
   ]
  },
  {
   "cell_type": "markdown",
   "metadata": {},
   "source": [
    "### SparkSession\n",
    ">Crea un SparkSession para comenzar la tarea"
   ]
  },
  {
   "cell_type": "code",
   "execution_count": 2,
   "metadata": {},
   "outputs": [
    {
     "name": "stderr",
     "output_type": "stream",
     "text": [
      "Setting default log level to \"WARN\".\n",
      "To adjust logging level use sc.setLogLevel(newLevel). For SparkR, use setLogLevel(newLevel).\n",
      "23/12/05 20:46:20 WARN NativeCodeLoader: Unable to load native-hadoop library for your platform... using builtin-java classes where applicable\n"
     ]
    }
   ],
   "source": [
    "spark = SparkSession.builder.appName(\"tarea\").getOrCreate()"
   ]
  },
  {
   "cell_type": "markdown",
   "metadata": {},
   "source": [
    "### Crear un DataFrame\n",
    ">Lee el csv datosTarea.csv, mételo a un DF y muéstralo."
   ]
  },
  {
   "cell_type": "code",
   "execution_count": 3,
   "metadata": {},
   "outputs": [
    {
     "name": "stderr",
     "output_type": "stream",
     "text": [
      "                                                                                \r"
     ]
    },
    {
     "name": "stdout",
     "output_type": "stream",
     "text": [
      "+-----+---------------+--------------------+--------------------+--------------------+--------------------+-------+--------------------+-------------------+--------+-----------+------+\n",
      "|Index|Organization Id|                Name|             Website|             Country|         Description|Founded|            Industry|Number of employees|Networth|stock_price|profit|\n",
      "+-----+---------------+--------------------+--------------------+--------------------+--------------------+-------+--------------------+-------------------+--------+-----------+------+\n",
      "|    1|FAB0d41d5b5d22c|         Ferrell LLC|  https://price.net/|    Papua New Guinea|Horizontal empowe...|   1990|            Plastics|               3498|  402269|         33| 12125|\n",
      "|    2|6A7EdDEA9FaDC52|Mckinney, Riley a...|http://www.hall-b...|             Finland|User-centric syst...|   2015|Glass / Ceramics ...|               4952|  569480|         49| 12001|\n",
      "|    3|0bFED1ADAE4bcC1|          Hester Ltd|http://sullivan-r...|               China|Switchable scalab...|   1971|       Public Safety|               5287|  608005|         26| 17121|\n",
      "|    4|2bFC1Be8a4ce42f|      Holder-Sellers| https://becker.com/|        Turkmenistan|De-engineered sys...|   2004|          Automotive|                921|  105914|         23|  8200|\n",
      "|    5|9eE8A6a4Eb96C24|         Mayer Group|http://www.brewer...|           Mauritius|Synchronized need...|   1991|      Transportation|               7870|  905049|         31|  8599|\n",
      "|    6|cC757116fe1C085|      Henry-Thompson|   http://morse.net/|             Bahamas|Face-to-face well...|   1992|Primary / Seconda...|               4914|  565110|         49|  5389|\n",
      "|    7|219233e8aFF1BC3|      Hansen-Everett|https://www.kidd....|            Pakistan|Seamless disinter...|   2018| Publishing Industry|               7832|  900679|         13|  5700|\n",
      "|    8|ccc93DCF81a31CD|       Mcintosh-Mora|https://www.brook...|Heard Island and ...|Centralized attit...|   1970|     Import / Export|               4389|  504734|         19|  5830|\n",
      "|    9|0B4F93aA06ED03e|            Carr Inc|    http://ross.com/|              Kuwait|Distributed impac...|   1996|            Plastics|               8167|  939204|         16| 15786|\n",
      "|   10|738b5aDe6B1C6A5|          Gaines Inc|http://sandoval-h...|          Uzbekistan|Multi-lateral sca...|   1997|Outsourcing / Off...|               9698| 1115270|         16| 14835|\n",
      "|   11|AE61b8Ffebbc476|          Kidd Group|http://www.lyons....|Bouvet Island (Bo...|Proactive foregro...|   2001|Primary / Seconda...|               7473|  859394|         45| 15424|\n",
      "|   12|eb3B7D06cCdD609|        Crane-Clarke|https://www.sando...|             Denmark|Front-line clear-...|   2014|    Food / Beverages|               9011| 1036264|         26|  8297|\n",
      "|   13|8D0c29189C9798B|Keller, Campos an...|https://www.garne...|             Liberia|Ameliorated direc...|   2020|Museums / Institu...|               2862|  329130|         28| 17043|\n",
      "|   14|D2c91cc03CA394c|         Glover-Pope|http://www.silva....|United Arab Emirates|Persevering conte...|   2013|    Medical Practice|               9079| 1044084|         28| 17809|\n",
      "|   15|C8AC1eaf9C036F4|      Pacheco-Spears|https://aguilar.com/|              Sweden|Secured logistica...|   1984|            Maritime|                769|   88435|         34| 12677|\n",
      "|   16|b5D10A14f7a8AfE|         Hodge-Ayers|http://www.archer...|            Honduras|Future-proofed ra...|   1990| Facilities Services|               8508|  978419|         13| 15797|\n",
      "|   17|68139b5C4De03B4|Bowers, Guerra an...|http://www.carril...|              Uganda|De-engineered tra...|   1972|Primary / Seconda...|               6986|  803389|         34| 12530|\n",
      "|   18|5c2EffEfdba2BdF|     Mckenzie-Melton|http://montoya-th...|           Hong Kong|Reverse-engineere...|   1998|Investment Manage...|               4589|  527735|         11| 16958|\n",
      "|   19|ba179F19F7925f5|         Branch-Mann|http://www.lozano...|            Botswana|Adaptive intangib...|   1999|Architecture / Pl...|               7961|  915514|         47|  8745|\n",
      "|   20|c1Ce9B350BAc66b|      Weiss and Sons|https://barrett.com/|               Korea|Sharable optimal ...|   2011|            Plastics|               5984|  688160|         46| 18079|\n",
      "+-----+---------------+--------------------+--------------------+--------------------+--------------------+-------+--------------------+-------------------+--------+-----------+------+\n",
      "only showing top 20 rows\n",
      "\n"
     ]
    }
   ],
   "source": [
    "df = spark.read.csv(\"datosTarea.csv\", header=True, inferSchema=True)\n",
    "df.show()"
   ]
  },
  {
   "cell_type": "markdown",
   "metadata": {},
   "source": [
    "### Filtro de datos\n",
    ">Consigue todas las empresas que empiecen con 'M' y tengan entre 4000 y 7000 empleados. Sólo muestra los nombres y el número de empleados."
   ]
  },
  {
   "cell_type": "code",
   "execution_count": 4,
   "metadata": {},
   "outputs": [
    {
     "name": "stdout",
     "output_type": "stream",
     "text": [
      "+--------------------+-------------------+\n",
      "|                Name|Number of Employees|\n",
      "+--------------------+-------------------+\n",
      "|Mckinney, Riley a...|               4952|\n",
      "|       Mcintosh-Mora|               4389|\n",
      "|     Mckenzie-Melton|               4589|\n",
      "|          Massey LLC|               5004|\n",
      "|        Mays-Preston|               5786|\n",
      "+--------------------+-------------------+\n",
      "\n"
     ]
    }
   ],
   "source": [
    "df.filter((df['Name'].startswith('M')) & (df[\"Number of Employees\"].between(4000, 7000))).select(\"Name\", \"Number of Employees\").show()"
   ]
  },
  {
   "cell_type": "markdown",
   "metadata": {},
   "source": [
    ">Consigue todos los países que no inicien con las letras 'b', 's' y 'm', pero que tampoco tengan un netword mayor a 500000. Muestra el nombre de la compañía, el país y el networth."
   ]
  },
  {
   "cell_type": "code",
   "execution_count": 5,
   "metadata": {},
   "outputs": [
    {
     "name": "stdout",
     "output_type": "stream",
     "text": [
      "+--------------------+--------------------+--------+\n",
      "|                Name|             Country|Networth|\n",
      "+--------------------+--------------------+--------+\n",
      "|         Ferrell LLC|    Papua New Guinea|  402269|\n",
      "|      Holder-Sellers|        Turkmenistan|  105914|\n",
      "|Keller, Campos an...|             Liberia|  329130|\n",
      "|      Pacheco-Spears|              Sweden|   88435|\n",
      "|         Harrell LLC|          Guadeloupe|  251274|\n",
      "|         Jenkins Inc|        South Africa|  139725|\n",
      "|Dickson, Richmond...|      Czech Republic|  359030|\n",
      "|        Prince-David|    Christmas Island|  120289|\n",
      "|         Rivas Group|           Australia|  477824|\n",
      "|Sloan, Mays and W...|                Chad|   41975|\n",
      "|Glass, Barrera an...|     Kyrgyz Republic|  300150|\n",
      "|          Pineda-Cox|             Bolivia|  150880|\n",
      "|Baker, Mccann and...|               Kenya|  188370|\n",
      "|            Hahn PLC|             Belarus|  427224|\n",
      "|Valentine, Fergus...|              Jersey|  412274|\n",
      "|           Walls LLC|          Cape Verde|  192969|\n",
      "|Mitchell, Warren ...| Trinidad and Tobago|  438839|\n",
      "|      Walton-Barnett|      Western Sahara|  200789|\n",
      "|     Bartlett-Arroyo|Northern Mariana ...|  458504|\n",
      "|         Berg-Sparks|              Canada|  238394|\n",
      "+--------------------+--------------------+--------+\n",
      "only showing top 20 rows\n",
      "\n"
     ]
    }
   ],
   "source": [
    "resultados = df.filter(~df[\"Country\"].startswith(\"b\") & ~df[\"Country\"].startswith(\"s\") & ~df[\"Country\"].startswith(\"m\") & (df[\"Networth\"] <= 500000)).select(\"Name\", \"Country\", \"Networth\").show()"
   ]
  },
  {
   "cell_type": "markdown",
   "metadata": {},
   "source": [
    "### Funciones\n",
    "Crea una función con @pandas_udf que que le reste a los profits la media en cada renglón. Crea una nueva columna que muestre los resultados."
   ]
  },
  {
   "cell_type": "code",
   "execution_count": 6,
   "metadata": {},
   "outputs": [
    {
     "name": "stderr",
     "output_type": "stream",
     "text": [
      "[Stage 5:>                                                          (0 + 1) / 1]\r"
     ]
    },
    {
     "name": "stdout",
     "output_type": "stream",
     "text": [
      "+-----+---------------+--------------------+--------------------+--------------------+--------------------+-------+--------------------+-------------------+--------+-----------+------+-----------+\n",
      "|Index|Organization Id|                Name|             Website|             Country|         Description|Founded|            Industry|Number of employees|Networth|stock_price|profit|profit-mean|\n",
      "+-----+---------------+--------------------+--------------------+--------------------+--------------------+-------+--------------------+-------------------+--------+-----------+------+-----------+\n",
      "|    1|FAB0d41d5b5d22c|         Ferrell LLC|  https://price.net/|    Papua New Guinea|Horizontal empowe...|   1990|            Plastics|               3498|  402269|         33| 12125|     -194.0|\n",
      "|    2|6A7EdDEA9FaDC52|Mckinney, Riley a...|http://www.hall-b...|             Finland|User-centric syst...|   2015|Glass / Ceramics ...|               4952|  569480|         49| 12001|     -318.0|\n",
      "|    3|0bFED1ADAE4bcC1|          Hester Ltd|http://sullivan-r...|               China|Switchable scalab...|   1971|       Public Safety|               5287|  608005|         26| 17121|     4802.0|\n",
      "|    4|2bFC1Be8a4ce42f|      Holder-Sellers| https://becker.com/|        Turkmenistan|De-engineered sys...|   2004|          Automotive|                921|  105914|         23|  8200|    -4119.0|\n",
      "|    5|9eE8A6a4Eb96C24|         Mayer Group|http://www.brewer...|           Mauritius|Synchronized need...|   1991|      Transportation|               7870|  905049|         31|  8599|    -3720.0|\n",
      "|    6|cC757116fe1C085|      Henry-Thompson|   http://morse.net/|             Bahamas|Face-to-face well...|   1992|Primary / Seconda...|               4914|  565110|         49|  5389|    -6930.0|\n",
      "|    7|219233e8aFF1BC3|      Hansen-Everett|https://www.kidd....|            Pakistan|Seamless disinter...|   2018| Publishing Industry|               7832|  900679|         13|  5700|    -6619.0|\n",
      "|    8|ccc93DCF81a31CD|       Mcintosh-Mora|https://www.brook...|Heard Island and ...|Centralized attit...|   1970|     Import / Export|               4389|  504734|         19|  5830|    -6489.0|\n",
      "|    9|0B4F93aA06ED03e|            Carr Inc|    http://ross.com/|              Kuwait|Distributed impac...|   1996|            Plastics|               8167|  939204|         16| 15786|     3467.0|\n",
      "|   10|738b5aDe6B1C6A5|          Gaines Inc|http://sandoval-h...|          Uzbekistan|Multi-lateral sca...|   1997|Outsourcing / Off...|               9698| 1115270|         16| 14835|     2516.0|\n",
      "|   11|AE61b8Ffebbc476|          Kidd Group|http://www.lyons....|Bouvet Island (Bo...|Proactive foregro...|   2001|Primary / Seconda...|               7473|  859394|         45| 15424|     3105.0|\n",
      "|   12|eb3B7D06cCdD609|        Crane-Clarke|https://www.sando...|             Denmark|Front-line clear-...|   2014|    Food / Beverages|               9011| 1036264|         26|  8297|    -4022.0|\n",
      "|   13|8D0c29189C9798B|Keller, Campos an...|https://www.garne...|             Liberia|Ameliorated direc...|   2020|Museums / Institu...|               2862|  329130|         28| 17043|     4724.0|\n",
      "|   14|D2c91cc03CA394c|         Glover-Pope|http://www.silva....|United Arab Emirates|Persevering conte...|   2013|    Medical Practice|               9079| 1044084|         28| 17809|     5490.0|\n",
      "|   15|C8AC1eaf9C036F4|      Pacheco-Spears|https://aguilar.com/|              Sweden|Secured logistica...|   1984|            Maritime|                769|   88435|         34| 12677|      358.0|\n",
      "|   16|b5D10A14f7a8AfE|         Hodge-Ayers|http://www.archer...|            Honduras|Future-proofed ra...|   1990| Facilities Services|               8508|  978419|         13| 15797|     3478.0|\n",
      "|   17|68139b5C4De03B4|Bowers, Guerra an...|http://www.carril...|              Uganda|De-engineered tra...|   1972|Primary / Seconda...|               6986|  803389|         34| 12530|      211.0|\n",
      "|   18|5c2EffEfdba2BdF|     Mckenzie-Melton|http://montoya-th...|           Hong Kong|Reverse-engineere...|   1998|Investment Manage...|               4589|  527735|         11| 16958|     4639.0|\n",
      "|   19|ba179F19F7925f5|         Branch-Mann|http://www.lozano...|            Botswana|Adaptive intangib...|   1999|Architecture / Pl...|               7961|  915514|         47|  8745|    -3574.0|\n",
      "|   20|c1Ce9B350BAc66b|      Weiss and Sons|https://barrett.com/|               Korea|Sharable optimal ...|   2011|            Plastics|               5984|  688160|         46| 18079|     5760.0|\n",
      "+-----+---------------+--------------------+--------------------+--------------------+--------------------+-------+--------------------+-------------------+--------+-----------+------+-----------+\n",
      "only showing top 20 rows\n",
      "\n"
     ]
    },
    {
     "name": "stderr",
     "output_type": "stream",
     "text": [
      "/opt/conda/envs/myenv/lib/python3.11/site-packages/pyspark/python/lib/pyspark.zip/pyspark/sql/pandas/serializers.py:224: FutureWarning: is_categorical_dtype is deprecated and will be removed in a future version. Use isinstance(dtype, CategoricalDtype) instead\n",
      "                                                                                \r"
     ]
    }
   ],
   "source": [
    "@pandas_udf('double')\n",
    "def resta_media(series: pd.Series) -> pd.Series:\n",
    "    promedio = series.mean()\n",
    "    return series - promedio\n",
    "df.withColumn(\"profit-mean\", resta_media(df['profit'])).show()"
   ]
  },
  {
   "cell_type": "markdown",
   "metadata": {},
   "source": [
    "### Grouping data\n",
    ">Agrupa por industry y muestra cuáles son las empresas con el profit más alto. Muestra los primeros tres."
   ]
  },
  {
   "cell_type": "code",
   "execution_count": 7,
   "metadata": {},
   "outputs": [
    {
     "name": "stdout",
     "output_type": "stream",
     "text": [
      "+--------------------+----------+\n",
      "|            Industry|max_profit|\n",
      "+--------------------+----------+\n",
      "|  Legislative Office|     19363|\n",
      "|Museums / Institu...|     19079|\n",
      "|             Farming|     18850|\n",
      "+--------------------+----------+\n",
      "\n"
     ]
    }
   ],
   "source": [
    "# Agrupar por industry y encontrar las empresas con el profit más alto\n",
    "result_df = df.groupBy(\"Industry\").agg({\"profit\": \"max\"}).withColumnRenamed(\"max(profit)\", \"max_profit\")\n",
    "\n",
    "# Ordenar por profit de manera descendente y mostrar los tres primeros\n",
    "result_df = result_df.orderBy(desc(\"max_profit\")).limit(3)\n",
    "\n",
    "# Mostrar el resultado\n",
    "result_df.show()"
   ]
  },
  {
   "cell_type": "markdown",
   "metadata": {},
   "source": [
    ">Agrupa por industry y calcula el promedio de empleados que tienen"
   ]
  },
  {
   "cell_type": "code",
   "execution_count": 8,
   "metadata": {},
   "outputs": [
    {
     "name": "stdout",
     "output_type": "stream",
     "text": [
      "+--------------------+------------------+\n",
      "|            Industry|Promedio Empleados|\n",
      "+--------------------+------------------+\n",
      "|Primary / Seconda...| 6457.666666666667|\n",
      "|     Broadcast Media|            2589.0|\n",
      "|           Wholesale|            5010.0|\n",
      "|Investment Manage...|            3133.5|\n",
      "|    Food / Beverages|            9011.0|\n",
      "|  Gambling / Casinos|            4873.0|\n",
      "|Logistics / Procu...|            4155.0|\n",
      "|            Maritime|             769.0|\n",
      "|            Wireless|            6146.0|\n",
      "|Education Management|             339.0|\n",
      "|       Arts / Crafts|            2800.0|\n",
      "|           Insurance|            1215.0|\n",
      "|  Financial Services|            5157.0|\n",
      "|Business Supplies...|            9097.0|\n",
      "|Consumer Electronics|            5022.0|\n",
      "|       Public Safety|            5287.0|\n",
      "|Information Techn...|            3934.0|\n",
      "|Civic / Social Or...|            2442.0|\n",
      "|      Consumer Goods|            9069.0|\n",
      "|Glass / Ceramics ...|            4952.0|\n",
      "+--------------------+------------------+\n",
      "only showing top 20 rows\n",
      "\n"
     ]
    }
   ],
   "source": [
    "result_df = df.groupBy(\"Industry\").agg(avg(\"Number of employees\").alias(\"Promedio Empleados\"))\n",
    "result_df.show()"
   ]
  },
  {
   "cell_type": "markdown",
   "metadata": {},
   "source": [
    "### SQL\n",
    ">Usando Spark SQL, obtén cuántas empresas se fundaron despúes del 2000."
   ]
  },
  {
   "cell_type": "code",
   "execution_count": 9,
   "metadata": {},
   "outputs": [
    {
     "name": "stdout",
     "output_type": "stream",
     "text": [
      "+-----+\n",
      "|count|\n",
      "+-----+\n",
      "|   38|\n",
      "+-----+\n",
      "\n"
     ]
    }
   ],
   "source": [
    "# Crear una vista temporal para utilizar Spark SQL\n",
    "df.createOrReplaceTempView(\"companies\")\n",
    "\n",
    "# Ejecutar la consulta SQL\n",
    "result = spark.sql(\"SELECT COUNT(*) as count FROM companies WHERE founded > 2000\")\n",
    "\n",
    "# Mostrar el resultado\n",
    "result.show()"
   ]
  },
  {
   "cell_type": "markdown",
   "metadata": {},
   "source": [
    "### ML Regresión Lineal\n",
    ">Con número de empleados, networth y stock price, obtén una predicción del profit a través de una regresión lineal."
   ]
  },
  {
   "cell_type": "code",
   "execution_count": 10,
   "metadata": {},
   "outputs": [
    {
     "name": "stderr",
     "output_type": "stream",
     "text": [
      "23/12/05 20:46:39 WARN Instrumentation: [170354b5] regParam is zero, which might cause numerical instability and overfitting.\n",
      "23/12/05 20:46:40 WARN InstanceBuilder: Failed to load implementation from:dev.ludovic.netlib.blas.JNIBLAS\n",
      "23/12/05 20:46:40 WARN InstanceBuilder: Failed to load implementation from:dev.ludovic.netlib.lapack.JNILAPACK\n"
     ]
    },
    {
     "name": "stdout",
     "output_type": "stream",
     "text": [
      "+--------------------+------+------------------+\n",
      "|            features|profit|        prediction|\n",
      "+--------------------+------+------------------+\n",
      "|[5287.0,608005.0,...| 17121|12940.376776265635|\n",
      "|[7832.0,900679.0,...|  5700|11380.915745440328|\n",
      "|[2862.0,329130.0,...| 17043|13036.554037024318|\n",
      "|[9079.0,1044084.0...| 17809|11517.630105127631|\n",
      "|[7961.0,915514.0,...|  8745|11771.946946780567|\n",
      "|[5038.0,579370.0,...| 11608|12820.101474409708|\n",
      "|[4155.0,477824.0,...| 12282|11677.365493735513|\n",
      "|[365.0,41975.0,43.0]| 12456|13285.892797461425|\n",
      "|[7443.0,855944.0,...|  9688|11682.993614733978|\n",
      "|[2610.0,300150.0,...| 16658|13206.745221202744|\n",
      "|[1312.0,150880.0,...| 16897|13094.795107266149|\n",
      "|[3715.0,427224.0,...|  5730|11493.145422669353|\n",
      "|[9067.0,1042704.0...| 18075|11448.300782484934|\n",
      "|[9443.0,1085945.0...| 11514|13012.814723289286|\n",
      "|[1418.0,163070.0,...| 18850|12928.995793407568|\n",
      "|[9097.0,1046154.0...| 12498|11424.168244223714|\n",
      "|[869.0,99934.0,15.0]|  7787|11613.601961796889|\n",
      "|[8433.0,969794.0,...| 16247|11525.447577733434|\n",
      "|[2215.0,254724.0,...|  6746|11875.103819106092|\n",
      "|[2988.0,343620.0,...| 17053|13032.763792743026|\n",
      "+--------------------+------+------------------+\n",
      "\n"
     ]
    }
   ],
   "source": [
    "# Ensamblar las características en un solo vector\n",
    "assembler = VectorAssembler(\n",
    "    inputCols=[\"Number of employees\", \"Networth\", \"stock_price\"],\n",
    "    outputCol=\"features\"\n",
    ")\n",
    "\n",
    "# Crear el modelo de regresión lineal\n",
    "lr = LinearRegression(featuresCol=\"features\", labelCol=\"profit\")\n",
    "\n",
    "# Crear el pipeline\n",
    "pipeline = Pipeline(stages=[assembler, lr])\n",
    "\n",
    "# Dividir los datos en conjunto de entrenamiento y prueba\n",
    "(trainingData, testData) = df.randomSplit([0.8, 0.2], seed=123)\n",
    "\n",
    "# Ajustar el modelo utilizando los datos de entrenamiento\n",
    "model = pipeline.fit(trainingData)\n",
    "\n",
    "# Realizar predicciones en los datos de prueba\n",
    "predictions = model.transform(testData)\n",
    "\n",
    "# Mostrar las predicciones y los valores reales\n",
    "predictions.select(\"features\", \"profit\", \"prediction\").show()"
   ]
  },
  {
   "cell_type": "markdown",
   "metadata": {},
   "source": [
    ">Una vez que obtengas los resultados, a través del api de pandas, conviértelo en un pandas on spark DataFrame y pásalo a csv."
   ]
  },
  {
   "cell_type": "code",
   "execution_count": 11,
   "metadata": {},
   "outputs": [],
   "source": [
    "# Convertir el DataFrame de Spark a Pandas\n",
    "predictions_pandas = predictions.select(\"features\", \"profit\", \"prediction\").toPandas()\n",
    "\n",
    "# Guardar el DataFrame de Pandas en un archivo CSV\n",
    "predictions_pandas.to_csv(\"predictions.csv\", index=False)"
   ]
  }
 ],
 "metadata": {
  "kernelspec": {
   "display_name": "myenv",
   "language": "python",
   "name": "myenv"
  },
  "language_info": {
   "codemirror_mode": {
    "name": "ipython",
    "version": 3
   },
   "file_extension": ".py",
   "mimetype": "text/x-python",
   "name": "python",
   "nbconvert_exporter": "python",
   "pygments_lexer": "ipython3",
   "version": "3.11.5"
  }
 },
 "nbformat": 4,
 "nbformat_minor": 4
}
