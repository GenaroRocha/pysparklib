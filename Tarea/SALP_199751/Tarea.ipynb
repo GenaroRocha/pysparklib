{
 "cells": [
  {
   "cell_type": "markdown",
   "metadata": {},
   "source": [
    "# Tarea Apache Spark\n",
    ">Importa las librerías necesarias dónde sea necesario\n"
   ]
  },
  {
   "cell_type": "code",
   "execution_count": 5,
   "metadata": {},
   "outputs": [],
   "source": [
    "import pandas as pd \n",
    "from pyspark.sql import SparkSession\n",
    "from pyspark.sql.functions import col"
   ]
  },
  {
   "cell_type": "markdown",
   "metadata": {},
   "source": [
    "### SparkSession\n",
    ">Crea un SparkSession para comenzar la tarea"
   ]
  },
  {
   "cell_type": "code",
   "execution_count": 2,
   "metadata": {},
   "outputs": [
    {
     "name": "stderr",
     "output_type": "stream",
     "text": [
      "Setting default log level to \"WARN\".\n",
      "To adjust logging level use sc.setLogLevel(newLevel). For SparkR, use setLogLevel(newLevel).\n",
      "23/12/04 04:42:10 WARN NativeCodeLoader: Unable to load native-hadoop library for your platform... using builtin-java classes where applicable\n"
     ]
    }
   ],
   "source": [
    "spark = SparkSession.builder.appName(\"example\").getOrCreate()"
   ]
  },
  {
   "cell_type": "markdown",
   "metadata": {},
   "source": [
    "### Crear un DataFrame\n",
    ">Lee el csv datosTarea.csv, mételo a un DF y muéstralo."
   ]
  },
  {
   "cell_type": "code",
   "execution_count": 3,
   "metadata": {},
   "outputs": [
    {
     "name": "stdout",
     "output_type": "stream",
     "text": [
      "+-----+---------------+--------------------+--------------------+--------------------+--------------------+-------+--------------------+-------------------+--------+-----------+------+\n",
      "|Index|Organization Id|                Name|             Website|             Country|         Description|Founded|            Industry|Number of employees|Networth|stock_price|profit|\n",
      "+-----+---------------+--------------------+--------------------+--------------------+--------------------+-------+--------------------+-------------------+--------+-----------+------+\n",
      "|    1|FAB0d41d5b5d22c|         Ferrell LLC|  https://price.net/|    Papua New Guinea|Horizontal empowe...|   1990|            Plastics|               3498|  402269|         33| 12125|\n",
      "|    2|6A7EdDEA9FaDC52|Mckinney, Riley a...|http://www.hall-b...|             Finland|User-centric syst...|   2015|Glass / Ceramics ...|               4952|  569480|         49| 12001|\n",
      "|    3|0bFED1ADAE4bcC1|          Hester Ltd|http://sullivan-r...|               China|Switchable scalab...|   1971|       Public Safety|               5287|  608005|         26| 17121|\n",
      "|    4|2bFC1Be8a4ce42f|      Holder-Sellers| https://becker.com/|        Turkmenistan|De-engineered sys...|   2004|          Automotive|                921|  105914|         23|  8200|\n",
      "|    5|9eE8A6a4Eb96C24|         Mayer Group|http://www.brewer...|           Mauritius|Synchronized need...|   1991|      Transportation|               7870|  905049|         31|  8599|\n",
      "|    6|cC757116fe1C085|      Henry-Thompson|   http://morse.net/|             Bahamas|Face-to-face well...|   1992|Primary / Seconda...|               4914|  565110|         49|  5389|\n",
      "|    7|219233e8aFF1BC3|      Hansen-Everett|https://www.kidd....|            Pakistan|Seamless disinter...|   2018| Publishing Industry|               7832|  900679|         13|  5700|\n",
      "|    8|ccc93DCF81a31CD|       Mcintosh-Mora|https://www.brook...|Heard Island and ...|Centralized attit...|   1970|     Import / Export|               4389|  504734|         19|  5830|\n",
      "|    9|0B4F93aA06ED03e|            Carr Inc|    http://ross.com/|              Kuwait|Distributed impac...|   1996|            Plastics|               8167|  939204|         16| 15786|\n",
      "|   10|738b5aDe6B1C6A5|          Gaines Inc|http://sandoval-h...|          Uzbekistan|Multi-lateral sca...|   1997|Outsourcing / Off...|               9698| 1115270|         16| 14835|\n",
      "|   11|AE61b8Ffebbc476|          Kidd Group|http://www.lyons....|Bouvet Island (Bo...|Proactive foregro...|   2001|Primary / Seconda...|               7473|  859394|         45| 15424|\n",
      "|   12|eb3B7D06cCdD609|        Crane-Clarke|https://www.sando...|             Denmark|Front-line clear-...|   2014|    Food / Beverages|               9011| 1036264|         26|  8297|\n",
      "|   13|8D0c29189C9798B|Keller, Campos an...|https://www.garne...|             Liberia|Ameliorated direc...|   2020|Museums / Institu...|               2862|  329130|         28| 17043|\n",
      "|   14|D2c91cc03CA394c|         Glover-Pope|http://www.silva....|United Arab Emirates|Persevering conte...|   2013|    Medical Practice|               9079| 1044084|         28| 17809|\n",
      "|   15|C8AC1eaf9C036F4|      Pacheco-Spears|https://aguilar.com/|              Sweden|Secured logistica...|   1984|            Maritime|                769|   88435|         34| 12677|\n",
      "|   16|b5D10A14f7a8AfE|         Hodge-Ayers|http://www.archer...|            Honduras|Future-proofed ra...|   1990| Facilities Services|               8508|  978419|         13| 15797|\n",
      "|   17|68139b5C4De03B4|Bowers, Guerra an...|http://www.carril...|              Uganda|De-engineered tra...|   1972|Primary / Seconda...|               6986|  803389|         34| 12530|\n",
      "|   18|5c2EffEfdba2BdF|     Mckenzie-Melton|http://montoya-th...|           Hong Kong|Reverse-engineere...|   1998|Investment Manage...|               4589|  527735|         11| 16958|\n",
      "|   19|ba179F19F7925f5|         Branch-Mann|http://www.lozano...|            Botswana|Adaptive intangib...|   1999|Architecture / Pl...|               7961|  915514|         47|  8745|\n",
      "|   20|c1Ce9B350BAc66b|      Weiss and Sons|https://barrett.com/|               Korea|Sharable optimal ...|   2011|            Plastics|               5984|  688160|         46| 18079|\n",
      "+-----+---------------+--------------------+--------------------+--------------------+--------------------+-------+--------------------+-------------------+--------+-----------+------+\n",
      "only showing top 20 rows\n",
      "\n"
     ]
    }
   ],
   "source": [
    "data = spark.read.csv('datosTarea.csv',header=True,inferSchema=True)\n",
    "data.show()"
   ]
  },
  {
   "cell_type": "markdown",
   "metadata": {},
   "source": [
    "### Filtro de datos\n",
    ">Consigue todas las empresas que empiecen con 'M' y tengan entre 4000 y 7000 empleados. Sólo muestra los nombres y el número de empleados."
   ]
  },
  {
   "cell_type": "code",
   "execution_count": 8,
   "metadata": {},
   "outputs": [
    {
     "name": "stdout",
     "output_type": "stream",
     "text": [
      "+--------------------+-------------------+\n",
      "|                Name|Number of employees|\n",
      "+--------------------+-------------------+\n",
      "|Mckinney, Riley a...|               4952|\n",
      "|       Mcintosh-Mora|               4389|\n",
      "|     Mckenzie-Melton|               4589|\n",
      "|          Massey LLC|               5004|\n",
      "|        Mays-Preston|               5786|\n",
      "+--------------------+-------------------+\n",
      "\n"
     ]
    }
   ],
   "source": [
    "data.filter((data.Name.like('M%'))&(col('Number of employees')>=4000)&(col('Number of employees')<=7000)).select(['Name', 'Number of employees']).show()"
   ]
  },
  {
   "cell_type": "markdown",
   "metadata": {},
   "source": [
    ">Consigue todos los países que no inicien con las letras 'b', 's' y 'm', pero que tampoco tengan un netword mayor a 500000. Muestra el nombre de la compañía, el país y el networth."
   ]
  },
  {
   "cell_type": "code",
   "execution_count": 9,
   "metadata": {},
   "outputs": [
    {
     "name": "stdout",
     "output_type": "stream",
     "text": [
      "+--------------------+--------------------+--------+\n",
      "|                Name|             Country|Networth|\n",
      "+--------------------+--------------------+--------+\n",
      "|         Ferrell LLC|    Papua New Guinea|  402269|\n",
      "|      Holder-Sellers|        Turkmenistan|  105914|\n",
      "|Keller, Campos an...|             Liberia|  329130|\n",
      "|      Pacheco-Spears|              Sweden|   88435|\n",
      "|         Harrell LLC|          Guadeloupe|  251274|\n",
      "|         Jenkins Inc|        South Africa|  139725|\n",
      "|Dickson, Richmond...|      Czech Republic|  359030|\n",
      "|        Prince-David|    Christmas Island|  120289|\n",
      "|         Rivas Group|           Australia|  477824|\n",
      "|Sloan, Mays and W...|                Chad|   41975|\n",
      "|Glass, Barrera an...|     Kyrgyz Republic|  300150|\n",
      "|          Pineda-Cox|             Bolivia|  150880|\n",
      "|Baker, Mccann and...|               Kenya|  188370|\n",
      "|            Hahn PLC|             Belarus|  427224|\n",
      "|Valentine, Fergus...|              Jersey|  412274|\n",
      "|           Walls LLC|          Cape Verde|  192969|\n",
      "|Mitchell, Warren ...| Trinidad and Tobago|  438839|\n",
      "|      Walton-Barnett|      Western Sahara|  200789|\n",
      "|     Bartlett-Arroyo|Northern Mariana ...|  458504|\n",
      "|         Berg-Sparks|              Canada|  238394|\n",
      "+--------------------+--------------------+--------+\n",
      "only showing top 20 rows\n",
      "\n"
     ]
    }
   ],
   "source": [
    "data.filter((~data.Name.like('b%'))&(~data.Name.like('s%'))&(~data.Name.like('m%'))&(col('Networth')<=500000)).select(['Name', 'Country','Networth']).show()"
   ]
  },
  {
   "cell_type": "markdown",
   "metadata": {},
   "source": [
    "### Funciones\n",
    "Crea una función con @pandas_udf que que le reste a los profits la media en cada renglón. Crea una nueva columna que muestre los resultados."
   ]
  },
  {
   "cell_type": "code",
   "execution_count": 10,
   "metadata": {},
   "outputs": [],
   "source": [
    "from pyspark.sql.functions import pandas_udf"
   ]
  },
  {
   "cell_type": "code",
   "execution_count": 12,
   "metadata": {},
   "outputs": [
    {
     "name": "stderr",
     "output_type": "stream",
     "text": [
      "[Stage 8:>                                                          (0 + 1) / 1]\r"
     ]
    },
    {
     "name": "stdout",
     "output_type": "stream",
     "text": [
      "+-----+---------------+--------------------+--------------------+--------------------+--------------------+-------+--------------------+-------------------+--------+-----------+------+----------------+\n",
      "|Index|Organization Id|                Name|             Website|             Country|         Description|Founded|            Industry|Number of employees|Networth|stock_price|profit|avg_substraction|\n",
      "+-----+---------------+--------------------+--------------------+--------------------+--------------------+-------+--------------------+-------------------+--------+-----------+------+----------------+\n",
      "|    1|FAB0d41d5b5d22c|         Ferrell LLC|  https://price.net/|    Papua New Guinea|Horizontal empowe...|   1990|            Plastics|               3498|  402269|         33| 12125|         -286416|\n",
      "|    2|6A7EdDEA9FaDC52|Mckinney, Riley a...|http://www.hall-b...|             Finland|User-centric syst...|   2015|Glass / Ceramics ...|               4952|  569480|         49| 12001|         -119205|\n",
      "|    3|0bFED1ADAE4bcC1|          Hester Ltd|http://sullivan-r...|               China|Switchable scalab...|   1971|       Public Safety|               5287|  608005|         26| 17121|          -80680|\n",
      "|    4|2bFC1Be8a4ce42f|      Holder-Sellers| https://becker.com/|        Turkmenistan|De-engineered sys...|   2004|          Automotive|                921|  105914|         23|  8200|         -582771|\n",
      "|    5|9eE8A6a4Eb96C24|         Mayer Group|http://www.brewer...|           Mauritius|Synchronized need...|   1991|      Transportation|               7870|  905049|         31|  8599|          216363|\n",
      "|    6|cC757116fe1C085|      Henry-Thompson|   http://morse.net/|             Bahamas|Face-to-face well...|   1992|Primary / Seconda...|               4914|  565110|         49|  5389|         -123575|\n",
      "|    7|219233e8aFF1BC3|      Hansen-Everett|https://www.kidd....|            Pakistan|Seamless disinter...|   2018| Publishing Industry|               7832|  900679|         13|  5700|          211993|\n",
      "|    8|ccc93DCF81a31CD|       Mcintosh-Mora|https://www.brook...|Heard Island and ...|Centralized attit...|   1970|     Import / Export|               4389|  504734|         19|  5830|         -183951|\n",
      "|    9|0B4F93aA06ED03e|            Carr Inc|    http://ross.com/|              Kuwait|Distributed impac...|   1996|            Plastics|               8167|  939204|         16| 15786|          250518|\n",
      "|   10|738b5aDe6B1C6A5|          Gaines Inc|http://sandoval-h...|          Uzbekistan|Multi-lateral sca...|   1997|Outsourcing / Off...|               9698| 1115270|         16| 14835|          426584|\n",
      "|   11|AE61b8Ffebbc476|          Kidd Group|http://www.lyons....|Bouvet Island (Bo...|Proactive foregro...|   2001|Primary / Seconda...|               7473|  859394|         45| 15424|          170708|\n",
      "|   12|eb3B7D06cCdD609|        Crane-Clarke|https://www.sando...|             Denmark|Front-line clear-...|   2014|    Food / Beverages|               9011| 1036264|         26|  8297|          347578|\n",
      "|   13|8D0c29189C9798B|Keller, Campos an...|https://www.garne...|             Liberia|Ameliorated direc...|   2020|Museums / Institu...|               2862|  329130|         28| 17043|         -359555|\n",
      "|   14|D2c91cc03CA394c|         Glover-Pope|http://www.silva....|United Arab Emirates|Persevering conte...|   2013|    Medical Practice|               9079| 1044084|         28| 17809|          355398|\n",
      "|   15|C8AC1eaf9C036F4|      Pacheco-Spears|https://aguilar.com/|              Sweden|Secured logistica...|   1984|            Maritime|                769|   88435|         34| 12677|         -600250|\n",
      "|   16|b5D10A14f7a8AfE|         Hodge-Ayers|http://www.archer...|            Honduras|Future-proofed ra...|   1990| Facilities Services|               8508|  978419|         13| 15797|          289733|\n",
      "|   17|68139b5C4De03B4|Bowers, Guerra an...|http://www.carril...|              Uganda|De-engineered tra...|   1972|Primary / Seconda...|               6986|  803389|         34| 12530|          114703|\n",
      "|   18|5c2EffEfdba2BdF|     Mckenzie-Melton|http://montoya-th...|           Hong Kong|Reverse-engineere...|   1998|Investment Manage...|               4589|  527735|         11| 16958|         -160950|\n",
      "|   19|ba179F19F7925f5|         Branch-Mann|http://www.lozano...|            Botswana|Adaptive intangib...|   1999|Architecture / Pl...|               7961|  915514|         47|  8745|          226828|\n",
      "|   20|c1Ce9B350BAc66b|      Weiss and Sons|https://barrett.com/|               Korea|Sharable optimal ...|   2011|            Plastics|               5984|  688160|         46| 18079|            -525|\n",
      "+-----+---------------+--------------------+--------------------+--------------------+--------------------+-------+--------------------+-------------------+--------+-----------+------+----------------+\n",
      "only showing top 20 rows\n",
      "\n"
     ]
    },
    {
     "name": "stderr",
     "output_type": "stream",
     "text": [
      "/opt/conda/envs/myenv/lib/python3.11/site-packages/pyspark/python/lib/pyspark.zip/pyspark/sql/pandas/serializers.py:224: FutureWarning: is_categorical_dtype is deprecated and will be removed in a future version. Use isinstance(dtype, CategoricalDtype) instead\n",
      "                                                                                \r"
     ]
    }
   ],
   "source": [
    "@pandas_udf('long')\n",
    "def substract_mean(series: pd.Series) -> pd.Series:\n",
    "    # Simply plus one by using pandas Series.\n",
    "    avg = series.mean()\n",
    "    return series - avg\n",
    "data.withColumn(\"avg_substraction\", substract_mean(data['Networth'])).show()"
   ]
  },
  {
   "cell_type": "markdown",
   "metadata": {},
   "source": [
    "### Grouping data\n",
    ">Agrupa por industry y muestra cuáles son las empresas con el profit más alto. Muestra los primeros tres."
   ]
  },
  {
   "cell_type": "code",
   "execution_count": 16,
   "metadata": {},
   "outputs": [],
   "source": [
    "from pyspark.sql.functions import sum, col"
   ]
  },
  {
   "cell_type": "code",
   "execution_count": 20,
   "metadata": {},
   "outputs": [
    {
     "name": "stdout",
     "output_type": "stream",
     "text": [
      "+-------------------+--------+\n",
      "|           Industry|Networth|\n",
      "+-------------------+--------+\n",
      "|           Plastics| 2977807|\n",
      "|           Printing| 2650288|\n",
      "|Facilities Services| 2629128|\n",
      "+-------------------+--------+\n",
      "\n"
     ]
    }
   ],
   "source": [
    "# Aquí no comprendo bien la pregunta, cuando se hace un group by sobre el campo industry todos los demás sufren alguna agregación. Se pide que se den las empresas con el Networth más alto, pero esa información realmente se pierde con la agregación. Voy a sumar todos los Networth y regresar eso.\n",
    "data.groupBy(\"Industry\").agg(sum(\"Networth\").alias(\"Networth\")).orderBy(col('Networth').desc()).limit(3).show()"
   ]
  },
  {
   "cell_type": "markdown",
   "metadata": {},
   "source": [
    ">Agrupa por industry y calcula el promedio de empleados que tienen"
   ]
  },
  {
   "cell_type": "code",
   "execution_count": 21,
   "metadata": {},
   "outputs": [],
   "source": [
    "from pyspark.sql.functions import avg, col"
   ]
  },
  {
   "cell_type": "code",
   "execution_count": 22,
   "metadata": {},
   "outputs": [
    {
     "name": "stdout",
     "output_type": "stream",
     "text": [
      "+--------------------+-------------------+\n",
      "|            Industry|Number of employees|\n",
      "+--------------------+-------------------+\n",
      "|Primary / Seconda...|  6457.666666666667|\n",
      "|     Broadcast Media|             2589.0|\n",
      "|           Wholesale|             5010.0|\n",
      "|Investment Manage...|             3133.5|\n",
      "|    Food / Beverages|             9011.0|\n",
      "|  Gambling / Casinos|             4873.0|\n",
      "|Logistics / Procu...|             4155.0|\n",
      "|            Maritime|              769.0|\n",
      "|            Wireless|             6146.0|\n",
      "|Education Management|              339.0|\n",
      "|       Arts / Crafts|             2800.0|\n",
      "|           Insurance|             1215.0|\n",
      "|  Financial Services|             5157.0|\n",
      "|Business Supplies...|             9097.0|\n",
      "|Consumer Electronics|             5022.0|\n",
      "|       Public Safety|             5287.0|\n",
      "|Information Techn...|             3934.0|\n",
      "|Civic / Social Or...|             2442.0|\n",
      "|      Consumer Goods|             9069.0|\n",
      "|Glass / Ceramics ...|             4952.0|\n",
      "+--------------------+-------------------+\n",
      "only showing top 20 rows\n",
      "\n"
     ]
    }
   ],
   "source": [
    "data.groupBy(\"Industry\").agg(avg(\"Number of employees\").alias(\"Number of employees\")).show()"
   ]
  },
  {
   "cell_type": "markdown",
   "metadata": {},
   "source": [
    "### SQL\n",
    ">Usando Spark SQL, obtén cuántas empresas se fundaron despúes del 2000."
   ]
  },
  {
   "cell_type": "code",
   "execution_count": 23,
   "metadata": {},
   "outputs": [
    {
     "name": "stdout",
     "output_type": "stream",
     "text": [
      "+-----+---------------+--------------------+--------------------+--------------------+--------------------+-------+--------------------+-------------------+--------+-----------+------+\n",
      "|Index|Organization Id|                Name|             Website|             Country|         Description|Founded|            Industry|Number of employees|Networth|stock_price|profit|\n",
      "+-----+---------------+--------------------+--------------------+--------------------+--------------------+-------+--------------------+-------------------+--------+-----------+------+\n",
      "|    2|6A7EdDEA9FaDC52|Mckinney, Riley a...|http://www.hall-b...|             Finland|User-centric syst...|   2015|Glass / Ceramics ...|               4952|  569480|         49| 12001|\n",
      "|    4|2bFC1Be8a4ce42f|      Holder-Sellers| https://becker.com/|        Turkmenistan|De-engineered sys...|   2004|          Automotive|                921|  105914|         23|  8200|\n",
      "|    7|219233e8aFF1BC3|      Hansen-Everett|https://www.kidd....|            Pakistan|Seamless disinter...|   2018| Publishing Industry|               7832|  900679|         13|  5700|\n",
      "|   11|AE61b8Ffebbc476|          Kidd Group|http://www.lyons....|Bouvet Island (Bo...|Proactive foregro...|   2001|Primary / Seconda...|               7473|  859394|         45| 15424|\n",
      "|   12|eb3B7D06cCdD609|        Crane-Clarke|https://www.sando...|             Denmark|Front-line clear-...|   2014|    Food / Beverages|               9011| 1036264|         26|  8297|\n",
      "|   13|8D0c29189C9798B|Keller, Campos an...|https://www.garne...|             Liberia|Ameliorated direc...|   2020|Museums / Institu...|               2862|  329130|         28| 17043|\n",
      "|   14|D2c91cc03CA394c|         Glover-Pope|http://www.silva....|United Arab Emirates|Persevering conte...|   2013|    Medical Practice|               9079| 1044084|         28| 17809|\n",
      "|   20|c1Ce9B350BAc66b|      Weiss and Sons|https://barrett.com/|               Korea|Sharable optimal ...|   2011|            Plastics|               5984|  688160|         46| 18079|\n",
      "|   22|Aad86a4F0385F2d|         Harrell LLC|http://www.frey-r...|          Guadeloupe|Reverse-engineere...|   2018|        Construction|               2185|  251274|         17|  8266|\n",
      "|   23|22aC3FFd64fD703|Eaton, Reynolds a...|http://www.freema...|              Monaco|Self-enabling mul...|   2014|Luxury Goods / Je...|               8987| 1033504|         24| 14269|\n",
      "|   25|5fDBeA8BB91a000|         Jenkins Inc|http://www.kirk.biz/|        South Africa|Front-line system...|   2002|           Insurance|               1215|  139725|         23| 17665|\n",
      "|   26|dFfD6a6F9AC2d9C|Greene, Benjamin ...|http://www.kent.net/|             Romania|Centralized leadi...|   2012|Museums / Institu...|               4941|  568215|         48| 19079|\n",
      "|   29|f9F7bBCAEeC360F|           Ayala LLC|http://www.zhang....|         Philippines|Open-source zero ...|   2021|      Legal Services|               7664|  881359|         44|  6466|\n",
      "|   35|9E6Acb51e3F9d6F|Glass, Barrera an...| https://dunlap.com/|     Kyrgyz Republic|Multi-channeled 3...|   2020|           Utilities|               2610|  300150|         42| 16658|\n",
      "|   36|4D4d7E18321eaeC|          Pineda-Cox| http://aguilar.org/|             Bolivia|Fundamental async...|   2010|Human Resources / HR|               1312|  150880|         29| 16897|\n",
      "|   37|485f5d06B938F2b|Baker, Mccann and...|http://www.anders...|               Kenya|Cross-group user-...|   2013|  Legislative Office|               1638|  188370|         17| 19363|\n",
      "|   39|6883A965c7b68F7|            Hahn PLC|  http://newman.com/|             Belarus|Organic logistica...|   2012|Electrical / Elec...|               3715|  427224|         12|  5730|\n",
      "|   41|decab0D5027CA6a|          Arroyo Inc|https://www.turne...|             Grenada|Managed demand-dr...|   2006|   Writing / Editing|               9067| 1042704|         22| 18075|\n",
      "|   43|A2D89Ab9bCcAd4e|Mitchell, Warren ...|    https://fox.biz/| Trinidad and Tobago|Enhanced intangib...|   2021|Capital Markets /...|               3816|  438839|         43|  6840|\n",
      "|   44|77aDc905434a49f|          Prince PLC|https://www.watts...|              Sweden|Profit-focused co...|   2016|Individual / Fami...|               7645|  879174|         23| 12915|\n",
      "+-----+---------------+--------------------+--------------------+--------------------+--------------------+-------+--------------------+-------------------+--------+-----------+------+\n",
      "only showing top 20 rows\n",
      "\n"
     ]
    }
   ],
   "source": [
    "data.filter(data.Founded > 2000).show()"
   ]
  },
  {
   "cell_type": "markdown",
   "metadata": {},
   "source": [
    "### ML Regresión Lineal\n",
    ">Con número de empleados, networth y stock price, obtén una predicción del profit a través de una regresión lineal."
   ]
  },
  {
   "cell_type": "code",
   "execution_count": 25,
   "metadata": {},
   "outputs": [],
   "source": [
    "from pyspark.ml.regression import LinearRegression\n",
    "from pyspark.ml.feature import VectorAssembler"
   ]
  },
  {
   "cell_type": "code",
   "execution_count": 42,
   "metadata": {},
   "outputs": [],
   "source": [
    "featureassembler = VectorAssembler(inputCols = [\"Number of employees\",\"Networth\",\"stock_price\"], outputCol = \"vectorized_independent\")"
   ]
  },
  {
   "cell_type": "code",
   "execution_count": 43,
   "metadata": {},
   "outputs": [
    {
     "name": "stdout",
     "output_type": "stream",
     "text": [
      "+----------------------+\n",
      "|vectorized_independent|\n",
      "+----------------------+\n",
      "|  [3498.0,402269.0,...|\n",
      "|  [4952.0,569480.0,...|\n",
      "|  [5287.0,608005.0,...|\n",
      "|  [921.0,105914.0,2...|\n",
      "|  [7870.0,905049.0,...|\n",
      "|  [4914.0,565110.0,...|\n",
      "|  [7832.0,900679.0,...|\n",
      "|  [4389.0,504734.0,...|\n",
      "|  [8167.0,939204.0,...|\n",
      "|  [9698.0,1115270.0...|\n",
      "|  [7473.0,859394.0,...|\n",
      "|  [9011.0,1036264.0...|\n",
      "|  [2862.0,329130.0,...|\n",
      "|  [9079.0,1044084.0...|\n",
      "|  [769.0,88435.0,34.0]|\n",
      "|  [8508.0,978419.0,...|\n",
      "|  [6986.0,803389.0,...|\n",
      "|  [4589.0,527735.0,...|\n",
      "|  [7961.0,915514.0,...|\n",
      "|  [5984.0,688160.0,...|\n",
      "+----------------------+\n",
      "only showing top 20 rows\n",
      "\n"
     ]
    }
   ],
   "source": [
    "output = featureassembler.transform(data)\n",
    "output.select(\"vectorized_independent\").show()"
   ]
  },
  {
   "cell_type": "code",
   "execution_count": 44,
   "metadata": {},
   "outputs": [],
   "source": [
    "finalized_data = output.select(\"vectorized_independent\", \"profit\")"
   ]
  },
  {
   "cell_type": "code",
   "execution_count": 45,
   "metadata": {},
   "outputs": [],
   "source": [
    "train_data, test_data = finalized_data.randomSplit([0.75, 0.25])"
   ]
  },
  {
   "cell_type": "code",
   "execution_count": 46,
   "metadata": {},
   "outputs": [
    {
     "name": "stderr",
     "output_type": "stream",
     "text": [
      "23/12/04 06:14:44 WARN Instrumentation: [0c4a55be] regParam is zero, which might cause numerical instability and overfitting.\n"
     ]
    }
   ],
   "source": [
    "regressor = LinearRegression(featuresCol = 'vectorized_independent', labelCol = 'profit')\n",
    "regressor = regressor.fit(train_data)"
   ]
  },
  {
   "cell_type": "code",
   "execution_count": 47,
   "metadata": {},
   "outputs": [
    {
     "name": "stdout",
     "output_type": "stream",
     "text": [
      "+----------------------+------+------------------+\n",
      "|vectorized_independent|profit|        prediction|\n",
      "+----------------------+------+------------------+\n",
      "|  [869.0,99934.0,15.0]|  7787| 11802.57598700452|\n",
      "|  [921.0,105914.0,2...|  8200|11928.465273920458|\n",
      "|  [1483.0,170545.0,...| 15246|13725.448087281498|\n",
      "|  [1678.0,192969.0,...| 16713| 11985.84910053909|\n",
      "|  [1825.0,209874.0,...|  9901|12189.943745728366|\n",
      "|  [2215.0,254724.0,...|  6746|12202.762569633467|\n",
      "|  [2785.0,320275.0,...| 14204|13273.546592444014|\n",
      "|  [2862.0,329130.0,...| 17043|13399.245700935833|\n",
      "|  [2992.0,344080.0,...| 13089|13445.613594963394|\n",
      "|  [3122.0,359030.0,...|  5925|13334.125416492494|\n",
      "|  [3715.0,427224.0,...|  5730|11733.569254655988|\n",
      "|  [3987.0,458504.0,...| 16020|11747.285720756314|\n",
      "|  [4589.0,527735.0,...| 16958|13117.752852904838|\n",
      "|  [4873.0,560395.0,...| 18276| 13478.66139291542|\n",
      "|  [4942.0,568330.0,...|  9074| 13683.34939459483|\n",
      "|  [4952.0,569480.0,...| 12001|13714.844537712954|\n",
      "|  [5130.0,589950.0,...| 12429|13129.422999282033|\n",
      "|  [5287.0,608005.0,...| 17121|13349.227180220378|\n",
      "|  [6874.0,790509.0,...| 11139|12214.677742184473|\n",
      "|  [7012.0,806379.0,...| 10936|11897.915812288793|\n",
      "+----------------------+------+------------------+\n",
      "only showing top 20 rows\n",
      "\n"
     ]
    }
   ],
   "source": [
    "pred_results = regressor.evaluate(test_data)\n",
    "pred_results.predictions.show()"
   ]
  },
  {
   "cell_type": "markdown",
   "metadata": {},
   "source": [
    ">Una vez que obtengas los resultados, a través del api de pandas, conviértelo en un pandas on spark DataFrame y pásalo a csv."
   ]
  },
  {
   "cell_type": "code",
   "execution_count": 51,
   "metadata": {},
   "outputs": [
    {
     "name": "stdout",
     "output_type": "stream",
     "text": [
      "       vectorized_independent  profit    prediction\n",
      "0      [869.0, 99934.0, 15.0]    7787  11802.575987\n",
      "1     [921.0, 105914.0, 23.0]    8200  11928.465274\n",
      "2    [1483.0, 170545.0, 48.0]   15246  13725.448087\n",
      "3    [1678.0, 192969.0, 27.0]   16713  11985.849101\n",
      "4    [1825.0, 209874.0, 40.0]    9901  12189.943746\n",
      "5    [2215.0, 254724.0, 41.0]    6746  12202.762570\n",
      "6    [2785.0, 320275.0, 20.0]   14204  13273.546592\n",
      "7    [2862.0, 329130.0, 28.0]   17043  13399.245701\n",
      "8    [2992.0, 344080.0, 31.0]   13089  13445.613595\n",
      "9    [3122.0, 359030.0, 24.0]    5925  13334.125416\n",
      "10   [3715.0, 427224.0, 12.0]    5730  11733.569255\n",
      "11   [3987.0, 458504.0, 13.0]   16020  11747.285721\n",
      "12   [4589.0, 527735.0, 11.0]   16958  13117.752853\n",
      "13   [4873.0, 560395.0, 34.0]   18276  13478.661393\n",
      "14   [4942.0, 568330.0, 47.0]    9074  13683.349395\n",
      "15   [4952.0, 569480.0, 49.0]   12001  13714.844538\n",
      "16   [5130.0, 589950.0, 12.0]   12429  13129.422999\n",
      "17   [5287.0, 608005.0, 26.0]   17121  13349.227180\n",
      "18   [6874.0, 790509.0, 44.0]   11139  12214.677742\n",
      "19   [7012.0, 806379.0, 24.0]   10936  11897.915812\n",
      "20   [7529.0, 865834.0, 45.0]   16757  12225.480675\n",
      "21   [7805.0, 897574.0, 46.0]   13123  12239.166713\n",
      "22   [7829.0, 900334.0, 35.0]    6931  12065.342462\n",
      "23   [7832.0, 900679.0, 13.0]    5700  11718.036281\n",
      "24   [7870.0, 905049.0, 31.0]    8599  12001.888140\n",
      "25   [7961.0, 915514.0, 47.0]    8745  12253.765606\n",
      "26   [8172.0, 939779.0, 25.0]   16740  11904.877141\n",
      "27  [8741.0, 1005214.0, 48.0]    7332  12263.617647\n",
      "28  [9698.0, 1115270.0, 16.0]   14835  13157.816028\n"
     ]
    }
   ],
   "source": [
    "pandas_preds = pred_results.predictions.toPandas()\n",
    "print(pandas_preds)\n",
    "pandas_preds.to_csv('predictions.csv') "
   ]
  }
 ],
 "metadata": {
  "kernelspec": {
   "display_name": "Python 3 (ipykernel)",
   "language": "python",
   "name": "python3"
  },
  "language_info": {
   "codemirror_mode": {
    "name": "ipython",
    "version": 3
   },
   "file_extension": ".py",
   "mimetype": "text/x-python",
   "name": "python",
   "nbconvert_exporter": "python",
   "pygments_lexer": "ipython3",
   "version": "3.11.5"
  }
 },
 "nbformat": 4,
 "nbformat_minor": 4
}
